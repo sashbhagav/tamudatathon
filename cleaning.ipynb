{
 "cells": [
  {
   "cell_type": "code",
   "execution_count": 30,
   "metadata": {},
   "outputs": [],
   "source": [
    "import numpy as np\n",
    "import pandas as pd\n",
    "from datascience import *\n",
    "import pgeocode\n",
    "import math"
   ]
  },
  {
   "cell_type": "code",
   "execution_count": null,
   "metadata": {},
   "outputs": [],
   "source": []
  },
  {
   "cell_type": "code",
   "execution_count": 56,
   "metadata": {},
   "outputs": [],
   "source": [
    "# goldman = Table.read_table('../../just tacos and burritos.csv')\n",
    "# goldman = goldman.sample(1000)\n",
    "# goldman.show(15)"
   ]
  },
  {
   "cell_type": "code",
   "execution_count": null,
   "metadata": {},
   "outputs": [],
   "source": []
  },
  {
   "cell_type": "code",
   "execution_count": 59,
   "metadata": {},
   "outputs": [],
   "source": [
    "# stores = goldman.group('websites')\n",
    "# stores.show(10)"
   ]
  },
  {
   "cell_type": "code",
   "execution_count": 58,
   "metadata": {
    "scrolled": false
   },
   "outputs": [],
   "source": [
    "# cuisines = goldman.group('cuisines')\n",
    "# cuisines.show(5)"
   ]
  },
  {
   "cell_type": "code",
   "execution_count": 5,
   "metadata": {},
   "outputs": [
    {
     "data": {
      "text/html": [
       "<table border=\"1\" class=\"dataframe\">\n",
       "    <thead>\n",
       "        <tr>\n",
       "            <th>country</th> <th>count</th>\n",
       "        </tr>\n",
       "    </thead>\n",
       "    <tbody>\n",
       "        <tr>\n",
       "            <td>US     </td> <td>1000 </td>\n",
       "        </tr>\n",
       "    </tbody>\n",
       "</table>"
      ],
      "text/plain": [
       "<IPython.core.display.HTML object>"
      ]
     },
     "metadata": {},
     "output_type": "display_data"
    }
   ],
   "source": [
    "# locs = goldman.group('country')\n",
    "# locs.show()"
   ]
  },
  {
   "cell_type": "code",
   "execution_count": 6,
   "metadata": {},
   "outputs": [],
   "source": [
    "goldman = goldman.drop('country').drop('id').drop('dateAdded').drop('dateUpdated').drop('menus.dateSeen').drop('menus.currency')"
   ]
  },
  {
   "cell_type": "code",
   "execution_count": 7,
   "metadata": {
    "scrolled": false
   },
   "outputs": [],
   "source": [
    "# goldman.sample(200).show()\n",
    "categories = []\n",
    "goldman.column('menus.name').item(9)\n",
    "for i in range(0, len(goldman.column('menus.name'))):\n",
    "    name = goldman.column('menus.name').item(i)\n",
    "    if 'burrito' in name or 'Burrito' in name:\n",
    "        categories.append('Burrito')\n",
    "    else:\n",
    "        categories.append('Taco')"
   ]
  },
  {
   "cell_type": "code",
   "execution_count": 8,
   "metadata": {},
   "outputs": [],
   "source": [
    "goldman = goldman.with_column('Categories', categories)\n",
    "for i in range(25, 30):\n",
    "    name = 'Unnamed: '+str(i)\n",
    "    goldman.drop(name)"
   ]
  },
  {
   "cell_type": "code",
   "execution_count": 60,
   "metadata": {},
   "outputs": [],
   "source": [
    "piv = goldman.pivot('cuisines', 'name')\n",
    "# piv.show(5)"
   ]
  },
  {
   "cell_type": "code",
   "execution_count": null,
   "metadata": {},
   "outputs": [],
   "source": []
  },
  {
   "cell_type": "code",
   "execution_count": 11,
   "metadata": {},
   "outputs": [],
   "source": [
    "df = goldman.to_df()"
   ]
  },
  {
   "cell_type": "code",
   "execution_count": 12,
   "metadata": {},
   "outputs": [],
   "source": [
    "df2 = df.drop(['Unnamed: 235'], axis = 1)"
   ]
  },
  {
   "cell_type": "code",
   "execution_count": 13,
   "metadata": {},
   "outputs": [],
   "source": [
    "for i in range(26, 236):\n",
    "    name = 'Unnamed: '+str(i)\n",
    "    df = df.drop([name], axis = 1)"
   ]
  },
  {
   "cell_type": "code",
   "execution_count": 14,
   "metadata": {},
   "outputs": [],
   "source": [
    "df.to_csv('goldman.csv')"
   ]
  },
  {
   "cell_type": "code",
   "execution_count": 15,
   "metadata": {},
   "outputs": [],
   "source": [
    "goldman2 = Table.read_table('goldman.csv')\n",
    "goldman2 = goldman2.drop('Unnamed: 0').drop('menus.category').drop('priceRangeCurrency')"
   ]
  },
  {
   "cell_type": "code",
   "execution_count": 16,
   "metadata": {},
   "outputs": [],
   "source": [
    "burrito = goldman2.where('Categories', are.equal_to('Burrito'))\n",
    "taco = goldman2.where('Categories', are.equal_to('Taco'))"
   ]
  },
  {
   "cell_type": "code",
   "execution_count": 61,
   "metadata": {},
   "outputs": [],
   "source": [
    "# burrito.show(10)\n",
    "# taco.show(10)"
   ]
  },
  {
   "cell_type": "code",
   "execution_count": null,
   "metadata": {},
   "outputs": [],
   "source": []
  },
  {
   "cell_type": "code",
   "execution_count": 62,
   "metadata": {},
   "outputs": [],
   "source": [
    "burrito_rat = burrito.group('city')\n",
    "# burrito_rat.show(5)"
   ]
  },
  {
   "cell_type": "code",
   "execution_count": 63,
   "metadata": {},
   "outputs": [],
   "source": [
    "taco_rat = taco.group('city')\n",
    "# taco_rat.show(5)"
   ]
  },
  {
   "cell_type": "code",
   "execution_count": 64,
   "metadata": {},
   "outputs": [],
   "source": [
    "ratio = taco_rat.join('city', burrito_rat, 'city')\n",
    "# ratio.show(10)"
   ]
  },
  {
   "cell_type": "code",
   "execution_count": 21,
   "metadata": {},
   "outputs": [
    {
     "data": {
      "text/html": [
       "<table border=\"1\" class=\"dataframe\">\n",
       "    <thead>\n",
       "        <tr>\n",
       "            <th>city</th> <th>Tacos</th> <th>Burritos</th>\n",
       "        </tr>\n",
       "    </thead>\n",
       "    <tbody>\n",
       "        <tr>\n",
       "            <td>Albuquerque</td> <td>3    </td> <td>4       </td>\n",
       "        </tr>\n",
       "        <tr>\n",
       "            <td>Alpharetta </td> <td>2    </td> <td>1       </td>\n",
       "        </tr>\n",
       "        <tr>\n",
       "            <td>Anaheim    </td> <td>2    </td> <td>1       </td>\n",
       "        </tr>\n",
       "        <tr>\n",
       "            <td>Atlanta    </td> <td>2    </td> <td>2       </td>\n",
       "        </tr>\n",
       "        <tr>\n",
       "            <td>Aurora     </td> <td>1    </td> <td>1       </td>\n",
       "        </tr>\n",
       "        <tr>\n",
       "            <td>Azusa      </td> <td>2    </td> <td>3       </td>\n",
       "        </tr>\n",
       "        <tr>\n",
       "            <td>Bakersfield</td> <td>1    </td> <td>2       </td>\n",
       "        </tr>\n",
       "        <tr>\n",
       "            <td>Baltimore  </td> <td>3    </td> <td>1       </td>\n",
       "        </tr>\n",
       "        <tr>\n",
       "            <td>Beeville   </td> <td>1    </td> <td>1       </td>\n",
       "        </tr>\n",
       "        <tr>\n",
       "            <td>Boise      </td> <td>2    </td> <td>2       </td>\n",
       "        </tr>\n",
       "    </tbody>\n",
       "</table>\n",
       "<p>... (86 rows omitted)</p>"
      ],
      "text/plain": [
       "city        | Tacos | Burritos\n",
       "Albuquerque | 3     | 4\n",
       "Alpharetta  | 2     | 1\n",
       "Anaheim     | 2     | 1\n",
       "Atlanta     | 2     | 2\n",
       "Aurora      | 1     | 1\n",
       "Azusa       | 2     | 3\n",
       "Bakersfield | 1     | 2\n",
       "Baltimore   | 3     | 1\n",
       "Beeville    | 1     | 1\n",
       "Boise       | 2     | 2\n",
       "... (86 rows omitted)"
      ]
     },
     "execution_count": 21,
     "metadata": {},
     "output_type": "execute_result"
    }
   ],
   "source": [
    "ratio.relabel('count', 'Tacos')\n",
    "ratio.relabel('count_2', 'Burritos')"
   ]
  },
  {
   "cell_type": "code",
   "execution_count": 22,
   "metadata": {},
   "outputs": [],
   "source": [
    "ratio = ratio.with_columns('Ratio of Burritos/Tacos', ratio.column('Burritos')/ratio.column('Tacos'))"
   ]
  },
  {
   "cell_type": "markdown",
   "metadata": {},
   "source": [
    "## Question 1"
   ]
  },
  {
   "cell_type": "code",
   "execution_count": 66,
   "metadata": {},
   "outputs": [
    {
     "data": {
      "text/html": [
       "<table border=\"1\" class=\"dataframe\">\n",
       "    <thead>\n",
       "        <tr>\n",
       "            <th>city</th> <th>count</th> <th>count_2</th>\n",
       "        </tr>\n",
       "    </thead>\n",
       "    <tbody>\n",
       "        <tr>\n",
       "            <td>Albuquerque</td> <td>3    </td> <td>4      </td>\n",
       "        </tr>\n",
       "        <tr>\n",
       "            <td>Alpharetta </td> <td>2    </td> <td>1      </td>\n",
       "        </tr>\n",
       "        <tr>\n",
       "            <td>Anaheim    </td> <td>2    </td> <td>1      </td>\n",
       "        </tr>\n",
       "        <tr>\n",
       "            <td>Atlanta    </td> <td>2    </td> <td>2      </td>\n",
       "        </tr>\n",
       "        <tr>\n",
       "            <td>Aurora     </td> <td>1    </td> <td>1      </td>\n",
       "        </tr>\n",
       "        <tr>\n",
       "            <td>Azusa      </td> <td>2    </td> <td>3      </td>\n",
       "        </tr>\n",
       "        <tr>\n",
       "            <td>Bakersfield</td> <td>1    </td> <td>2      </td>\n",
       "        </tr>\n",
       "        <tr>\n",
       "            <td>Baltimore  </td> <td>3    </td> <td>1      </td>\n",
       "        </tr>\n",
       "        <tr>\n",
       "            <td>Beeville   </td> <td>1    </td> <td>1      </td>\n",
       "        </tr>\n",
       "        <tr>\n",
       "            <td>Boise      </td> <td>2    </td> <td>2      </td>\n",
       "        </tr>\n",
       "    </tbody>\n",
       "</table>\n",
       "<p>... (86 rows omitted)</p>"
      ],
      "text/plain": [
       "<IPython.core.display.HTML object>"
      ]
     },
     "metadata": {},
     "output_type": "display_data"
    }
   ],
   "source": [
    "ratio.show(10)"
   ]
  },
  {
   "cell_type": "markdown",
   "metadata": {},
   "source": [
    "## #2"
   ]
  },
  {
   "cell_type": "code",
   "execution_count": 65,
   "metadata": {},
   "outputs": [],
   "source": [
    "# goldman2.group('city')"
   ]
  },
  {
   "cell_type": "code",
   "execution_count": 67,
   "metadata": {},
   "outputs": [],
   "source": [
    "# goldman = Table.read_table('../../just tacos and burritos.csv')\n",
    "# # "
   ]
  },
  {
   "cell_type": "code",
   "execution_count": 68,
   "metadata": {},
   "outputs": [],
   "source": [
    "# goldman = goldman.sample(10000)\n",
    "# id_g = goldman.group('city')\n",
    "# id_g.show(10)"
   ]
  },
  {
   "cell_type": "code",
   "execution_count": 69,
   "metadata": {},
   "outputs": [],
   "source": [
    "# locations = []\n",
    "# count = 1\n",
    "# for i in id_g.column('id'):\n",
    "#     city = goldman.where('id', are.equal_to(i)).column('city').item(0)\n",
    "#     print(city, count)\n",
    "#     locations.append(city)\n",
    "#     count += 1"
   ]
  },
  {
   "cell_type": "code",
   "execution_count": 31,
   "metadata": {},
   "outputs": [],
   "source": [
    "# id_g = id_g.with_column('City', locations)"
   ]
  },
  {
   "cell_type": "code",
   "execution_count": 70,
   "metadata": {},
   "outputs": [],
   "source": [
    "# id_g"
   ]
  },
  {
   "cell_type": "code",
   "execution_count": 123,
   "metadata": {},
   "outputs": [],
   "source": [
    "def ratio(goldman2):\n",
    "    burrito = goldman2.where('Categories', are.equal_to('Burrito'))\n",
    "    taco = goldman2.where('Categories', are.equal_to('Taco'))\n",
    "    \n",
    "    burrito_rat = burrito.group('postalCode').relabel('count', 'burrito')\n",
    "    taco_rat = taco.group('postalCode').relabel('count', 'taco')\n",
    "    \n",
    "    ratio = pd.merge(burrito_rat.to_df(), taco_rat.to_df(), how = \"outer\")\n",
    "    \n",
    "    ratio['Ratio of Burritos/Taco'] = ratio['burrito']/ratio['taco']\n",
    "    ratio.to_csv('training.csv')\n",
    "    return ratio"
   ]
  },
  {
   "cell_type": "code",
   "execution_count": 129,
   "metadata": {},
   "outputs": [],
   "source": [
    "def category(goldman):\n",
    "    # goldman.sample(200).show()\n",
    "    categories = []\n",
    "    goldman.column('menus.name').item(9)\n",
    "    for i in range(0, len(goldman.column('menus.name'))):\n",
    "        name = goldman.column('menus.name').item(i)\n",
    "        if 'burrito' in name or 'Burrito' in name:\n",
    "            categories.append('Burrito')\n",
    "        else:\n",
    "            categories.append('Taco')\n",
    "    goldman = goldman.with_column('Categories', categories)\n",
    "    df = goldman.to_df()\n",
    "    \n",
    "    for i in range(26, 236):\n",
    "        name = 'Unnamed: '+str(i)\n",
    "        df = df.drop([name], axis = 1)\n",
    "    df.to_csv('part1.csv')\n",
    "    return df"
   ]
  },
  {
   "cell_type": "code",
   "execution_count": 36,
   "metadata": {},
   "outputs": [],
   "source": [
    "goldman = Table.read_table('../../just tacos and burritos.csv')"
   ]
  },
  {
   "cell_type": "code",
   "execution_count": 130,
   "metadata": {
    "scrolled": true
   },
   "outputs": [
    {
     "data": {
      "text/html": [
       "<table border=\"1\" class=\"dataframe\">\n",
       "    <thead>\n",
       "        <tr>\n",
       "            <th>Unnamed: 0</th> <th>id</th> <th>address</th> <th>categories</th> <th>city</th> <th>country</th> <th>cuisines</th> <th>dateAdded</th> <th>dateUpdated</th> <th>keys</th> <th>latitude</th> <th>longitude</th> <th>menuPageURL</th> <th>menus.amountMax</th> <th>menus.amountMin</th> <th>menus.category</th> <th>menus.currency</th> <th>menus.dateSeen</th> <th>menus.description</th> <th>menus.name</th> <th>name</th> <th>postalCode</th> <th>priceRangeCurrency</th> <th>priceRangeMin</th> <th>priceRangeMax</th> <th>province</th> <th>websites</th> <th>Categories</th>\n",
       "        </tr>\n",
       "    </thead>\n",
       "    <tbody>\n",
       "        <tr>\n",
       "            <td>0         </td> <td>AVwcijlNByjofQCxfYAI</td> <td>2400 Fletcher Dr    </td> <td>Fast Food Restaurant,Restaurant                             </td> <td>Los Angeles </td> <td>US     </td> <td>Fast Food Restaurants</td> <td>2016-03-24T09:38:01Z</td> <td>2017-07-06T11:14:39Z</td> <td>us/ca/losangeles/2400fletcherdr/558764851            </td> <td>34.106  </td> <td>-118.257 </td> <td>nan        </td> <td>6.84           </td> <td>6.84           </td> <td>nan           </td> <td>USD           </td> <td>2016-09-08T10:45:31Z,2016-03-24T09:38:01Z</td> <td>nan                                                         </td> <td>Chicken Taco (2 Soft Shell)           </td> <td>Rick's Drive In & Out    </td> <td>90039     </td> <td>USD               </td> <td>0            </td> <td>25           </td> <td>CA          </td> <td>http://www.ricksdriveinandout.com              </td> <td>Taco      </td>\n",
       "        </tr>\n",
       "        <tr>\n",
       "            <td>1         </td> <td>AVwc-D4Z_7pvs4fz04pF</td> <td>455 Park Ave        </td> <td>American Restaurant                                         </td> <td>Worcester   </td> <td>US     </td> <td>nan                  </td> <td>2016-06-20T15:24:18Z</td> <td>2016-07-06T21:11:09Z</td> <td>us/ma/worcester/455parkave/168359587                 </td> <td>42.2545 </td> <td>-71.8254 </td> <td>nan        </td> <td>12             </td> <td>12             </td> <td>nan           </td> <td>USD           </td> <td>2016-06-20T15:24:18Z                     </td> <td>Chipotle-cinnamon dusted rare tuna, lettuce, tomato, avo ...</td> <td>Tuna Tacos                            </td> <td>Peppercorn's Grille & Bar</td> <td>1610      </td> <td>USD               </td> <td>25           </td> <td>40           </td> <td>MA          </td> <td>nan                                            </td> <td>Taco      </td>\n",
       "        </tr>\n",
       "        <tr>\n",
       "            <td>2         </td> <td>AVwd9B-FByjofQCxt-Fv</td> <td>2524 W Main         </td> <td>Tex-Mex Restaurant,american restaurant                      </td> <td>Durant      </td> <td>US     </td> <td>nan                  </td> <td>2015-09-21T09:32:12Z</td> <td>2016-03-30T03:58:29Z</td> <td>us/ok/durant/2524wmain/379971047                     </td> <td>33.9997 </td> <td>-96.4091 </td> <td>nan        </td> <td>nan            </td> <td>nan            </td> <td>nan           </td> <td>nan           </td> <td>2016-03-30T03:58:29Z                     </td> <td>nan                                                         </td> <td>Smothered Carnitas Burrito            </td> <td>Chili's Grill & Bar      </td> <td>74701     </td> <td>USD               </td> <td>25           </td> <td>40           </td> <td>OK          </td> <td>nan                                            </td> <td>Burrito   </td>\n",
       "        </tr>\n",
       "        <tr>\n",
       "            <td>3         </td> <td>AVweUwBMIN2L1WUf37bD</td> <td>1191 First Ave      </td> <td>Restaurant                                                  </td> <td>New York    </td> <td>US     </td> <td>Mexican              </td> <td>2015-10-19T20:44:43Z</td> <td>2016-08-22T12:00:11Z</td> <td>us/ny/newyork/1191firstave/-739575213                </td> <td>40.763  </td> <td>-73.9595 </td> <td>nan        </td> <td>5              </td> <td>5              </td> <td>Botanas       </td> <td>USD           </td> <td>2016-04-24T00:00:00Z                     </td> <td>nan                                                         </td> <td>Al Pastor Taco                        </td> <td>Maya - New York          </td> <td>10065     </td> <td>USD               </td> <td>0            </td> <td>30           </td> <td>NY          </td> <td>http://www.richardsandoval.com/mayany/index.php</td> <td>Taco      </td>\n",
       "        </tr>\n",
       "        <tr>\n",
       "            <td>4         </td> <td>AVwdEU4V_7pvs4fz16_T</td> <td>298 Irving Ave      </td> <td>Mexican Restaurant,nonclassifiable establishments           </td> <td>Brooklyn    </td> <td>US     </td> <td>nan                  </td> <td>2015-10-20T01:39:21Z</td> <td>2017-07-06T19:33:50Z</td> <td>us/ny/brooklyn/298irvingave/1766271113               </td> <td>nan     </td> <td>nan      </td> <td>nan        </td> <td>7              </td> <td>7              </td> <td>nan           </td> <td>USD           </td> <td>2016-04-01T06:40:50Z                     </td> <td>nan                                                         </td> <td>Torta, Taco Al Pastor and Soda        </td> <td>Taqueria El Paisa        </td> <td>11237     </td> <td>USD               </td> <td>0            </td> <td>25           </td> <td>NY          </td> <td>nan                                            </td> <td>Taco      </td>\n",
       "        </tr>\n",
       "        <tr>\n",
       "            <td>5         </td> <td>AVwd7QbGkufWRAb5-dBJ</td> <td>2035 W Washington St</td> <td>Fast Food Restaurant,Mexican Restaurant,Mexican Restaura ...</td> <td>Indianapolis</td> <td>US     </td> <td>nan                  </td> <td>2015-10-23T02:42:16Z</td> <td>2017-07-06T18:35:41Z</td> <td>us/in/indianapolis/2035wwashingtonst/-864103396      </td> <td>nan     </td> <td>nan      </td> <td>nan        </td> <td>nan            </td> <td>nan            </td> <td>nan           </td> <td>nan           </td> <td>2016-03-21T00:25:04Z                     </td> <td>nan                                                         </td> <td>Crispy Potato Soft Taco               </td> <td>Taco Bell                </td> <td>46222     </td> <td>nan               </td> <td>nan          </td> <td>nan          </td> <td>IN          </td> <td>http://tacobell.com                            </td> <td>Taco      </td>\n",
       "        </tr>\n",
       "        <tr>\n",
       "            <td>6         </td> <td>AVwcx_k2ByjofQCxiH4I</td> <td>4450 Eastgate Blvd  </td> <td>Mexican Restaurant                                          </td> <td>Cincinnati  </td> <td>US     </td> <td>nan                  </td> <td>2016-10-27T02:02:54Z</td> <td>2016-10-27T02:02:54Z</td> <td>us/cherrygrove/cincinnati/4450eastgateblvd/-654801229</td> <td>nan     </td> <td>nan      </td> <td>nan        </td> <td>10.5           </td> <td>10.5           </td> <td>nan           </td> <td>USD           </td> <td>2016-10-27T02:02:54Z                     </td> <td>A flour tortilla stuffed with steak chunks, onions, chee ...</td> <td>Burrito De Carne Asada                </td> <td>Rincon Mexicano          </td> <td>45245     </td> <td>USD               </td> <td>25           </td> <td>40           </td> <td>Cherry Grove</td> <td>http://rinconeastgate.com                      </td> <td>Burrito   </td>\n",
       "        </tr>\n",
       "        <tr>\n",
       "            <td>7         </td> <td>AVwdExGnkufWRAb52CvO</td> <td>816 Boyd Rd         </td> <td>Taco Place,Azle Restaurants,Restaurant                      </td> <td>Azle        </td> <td>US     </td> <td>Mexican              </td> <td>2016-03-29T05:17:59Z</td> <td>2016-07-06T20:54:33Z</td> <td>us/tx/azle/816boydrd/-864077243                      </td> <td>32.9076 </td> <td>-97.543  </td> <td>nan        </td> <td>5.16           </td> <td>5.16           </td> <td>nan           </td> <td>USD           </td> <td>2016-03-29T05:17:59Z,2016-05-24T05:47:37Z</td> <td>nan                                                         </td> <td>Enchilada, Taco, Rice, Frijoles, Chips</td> <td>Taco Casa                </td> <td>76020     </td> <td>nan               </td> <td>nan          </td> <td>nan          </td> <td>TX          </td> <td>http://www.tacocasatexas.com                   </td> <td>Taco      </td>\n",
       "        </tr>\n",
       "        <tr>\n",
       "            <td>8         </td> <td>AVwdExGnkufWRAb52CvO</td> <td>816 Boyd Rd         </td> <td>Taco Place,Azle Restaurants,Restaurant                      </td> <td>Azle        </td> <td>US     </td> <td>Mexican              </td> <td>2016-03-29T05:17:59Z</td> <td>2016-07-06T20:54:33Z</td> <td>us/tx/azle/816boydrd/-864077243                      </td> <td>32.9076 </td> <td>-97.543  </td> <td>nan        </td> <td>5.16           </td> <td>5.16           </td> <td>nan           </td> <td>USD           </td> <td>2016-03-29T05:17:59Z,2016-05-24T05:47:37Z</td> <td>nan                                                         </td> <td>Enchilada, Taco, Rice, Frijoles, Chips</td> <td>Taco Casa                </td> <td>76020     </td> <td>nan               </td> <td>nan          </td> <td>nan          </td> <td>TX          </td> <td>http://www.tacocasatexas.com                   </td> <td>Taco      </td>\n",
       "        </tr>\n",
       "        <tr>\n",
       "            <td>9         </td> <td>AVwcz-6dkufWRAb5zSAf</td> <td>2401 N Meridian St  </td> <td>Fast Food Restaurant,Mexican Restaurant,Fast Food Restau ...</td> <td>Indianapolis</td> <td>US     </td> <td>nan                  </td> <td>2015-10-23T01:25:04Z</td> <td>2017-07-03T11:13:25Z</td> <td>us/in/indianapolis/2401nmeridianst/-864103396        </td> <td>39.8014 </td> <td>-86.1565 </td> <td>nan        </td> <td>nan            </td> <td>nan            </td> <td>nan           </td> <td>nan           </td> <td>2015-10-23T02:32:08Z,2015-10-23T01:25:04Z</td> <td>nan                                                         </td> <td>Crunchy Taco                          </td> <td>Taco Bell                </td> <td>46208     </td> <td>USD               </td> <td>0            </td> <td>25           </td> <td>IN          </td> <td>http://tacobell.com                            </td> <td>Taco      </td>\n",
       "        </tr>\n",
       "    </tbody>\n",
       "</table>\n",
       "<p>... (9990 rows omitted)</p>"
      ],
      "text/plain": [
       "Unnamed: 0 | id                   | address              | categories                                                   | city         | country | cuisines              | dateAdded            | dateUpdated          | keys                                                  | latitude | longitude | menuPageURL | menus.amountMax | menus.amountMin | menus.category | menus.currency | menus.dateSeen                            | menus.description                                            | menus.name                             | name                      | postalCode | priceRangeCurrency | priceRangeMin | priceRangeMax | province     | websites                                        | Categories\n",
       "0          | AVwcijlNByjofQCxfYAI | 2400 Fletcher Dr     | Fast Food Restaurant,Restaurant                              | Los Angeles  | US      | Fast Food Restaurants | 2016-03-24T09:38:01Z | 2017-07-06T11:14:39Z | us/ca/losangeles/2400fletcherdr/558764851             | 34.106   | -118.257  | nan         | 6.84            | 6.84            | nan            | USD            | 2016-09-08T10:45:31Z,2016-03-24T09:38:01Z | nan                                                          | Chicken Taco (2 Soft Shell)            | Rick's Drive In & Out     | 90039      | USD                | 0             | 25            | CA           | http://www.ricksdriveinandout.com               | Taco\n",
       "1          | AVwc-D4Z_7pvs4fz04pF | 455 Park Ave         | American Restaurant                                          | Worcester    | US      | nan                   | 2016-06-20T15:24:18Z | 2016-07-06T21:11:09Z | us/ma/worcester/455parkave/168359587                  | 42.2545  | -71.8254  | nan         | 12              | 12              | nan            | USD            | 2016-06-20T15:24:18Z                      | Chipotle-cinnamon dusted rare tuna, lettuce, tomato, avo ... | Tuna Tacos                             | Peppercorn's Grille & Bar | 1610       | USD                | 25            | 40            | MA           | nan                                             | Taco\n",
       "2          | AVwd9B-FByjofQCxt-Fv | 2524 W Main          | Tex-Mex Restaurant,american restaurant                       | Durant       | US      | nan                   | 2015-09-21T09:32:12Z | 2016-03-30T03:58:29Z | us/ok/durant/2524wmain/379971047                      | 33.9997  | -96.4091  | nan         | nan             | nan             | nan            | nan            | 2016-03-30T03:58:29Z                      | nan                                                          | Smothered Carnitas Burrito             | Chili's Grill & Bar       | 74701      | USD                | 25            | 40            | OK           | nan                                             | Burrito\n",
       "3          | AVweUwBMIN2L1WUf37bD | 1191 First Ave       | Restaurant                                                   | New York     | US      | Mexican               | 2015-10-19T20:44:43Z | 2016-08-22T12:00:11Z | us/ny/newyork/1191firstave/-739575213                 | 40.763   | -73.9595  | nan         | 5               | 5               | Botanas        | USD            | 2016-04-24T00:00:00Z                      | nan                                                          | Al Pastor Taco                         | Maya - New York           | 10065      | USD                | 0             | 30            | NY           | http://www.richardsandoval.com/mayany/index.php | Taco\n",
       "4          | AVwdEU4V_7pvs4fz16_T | 298 Irving Ave       | Mexican Restaurant,nonclassifiable establishments            | Brooklyn     | US      | nan                   | 2015-10-20T01:39:21Z | 2017-07-06T19:33:50Z | us/ny/brooklyn/298irvingave/1766271113                | nan      | nan       | nan         | 7               | 7               | nan            | USD            | 2016-04-01T06:40:50Z                      | nan                                                          | Torta, Taco Al Pastor and Soda         | Taqueria El Paisa         | 11237      | USD                | 0             | 25            | NY           | nan                                             | Taco\n",
       "5          | AVwd7QbGkufWRAb5-dBJ | 2035 W Washington St | Fast Food Restaurant,Mexican Restaurant,Mexican Restaura ... | Indianapolis | US      | nan                   | 2015-10-23T02:42:16Z | 2017-07-06T18:35:41Z | us/in/indianapolis/2035wwashingtonst/-864103396       | nan      | nan       | nan         | nan             | nan             | nan            | nan            | 2016-03-21T00:25:04Z                      | nan                                                          | Crispy Potato Soft Taco                | Taco Bell                 | 46222      | nan                | nan           | nan           | IN           | http://tacobell.com                             | Taco\n",
       "6          | AVwcx_k2ByjofQCxiH4I | 4450 Eastgate Blvd   | Mexican Restaurant                                           | Cincinnati   | US      | nan                   | 2016-10-27T02:02:54Z | 2016-10-27T02:02:54Z | us/cherrygrove/cincinnati/4450eastgateblvd/-654801229 | nan      | nan       | nan         | 10.5            | 10.5            | nan            | USD            | 2016-10-27T02:02:54Z                      | A flour tortilla stuffed with steak chunks, onions, chee ... | Burrito De Carne Asada                 | Rincon Mexicano           | 45245      | USD                | 25            | 40            | Cherry Grove | http://rinconeastgate.com                       | Burrito\n",
       "7          | AVwdExGnkufWRAb52CvO | 816 Boyd Rd          | Taco Place,Azle Restaurants,Restaurant                       | Azle         | US      | Mexican               | 2016-03-29T05:17:59Z | 2016-07-06T20:54:33Z | us/tx/azle/816boydrd/-864077243                       | 32.9076  | -97.543   | nan         | 5.16            | 5.16            | nan            | USD            | 2016-03-29T05:17:59Z,2016-05-24T05:47:37Z | nan                                                          | Enchilada, Taco, Rice, Frijoles, Chips | Taco Casa                 | 76020      | nan                | nan           | nan           | TX           | http://www.tacocasatexas.com                    | Taco\n",
       "8          | AVwdExGnkufWRAb52CvO | 816 Boyd Rd          | Taco Place,Azle Restaurants,Restaurant                       | Azle         | US      | Mexican               | 2016-03-29T05:17:59Z | 2016-07-06T20:54:33Z | us/tx/azle/816boydrd/-864077243                       | 32.9076  | -97.543   | nan         | 5.16            | 5.16            | nan            | USD            | 2016-03-29T05:17:59Z,2016-05-24T05:47:37Z | nan                                                          | Enchilada, Taco, Rice, Frijoles, Chips | Taco Casa                 | 76020      | nan                | nan           | nan           | TX           | http://www.tacocasatexas.com                    | Taco\n",
       "9          | AVwcz-6dkufWRAb5zSAf | 2401 N Meridian St   | Fast Food Restaurant,Mexican Restaurant,Fast Food Restau ... | Indianapolis | US      | nan                   | 2015-10-23T01:25:04Z | 2017-07-03T11:13:25Z | us/in/indianapolis/2401nmeridianst/-864103396         | 39.8014  | -86.1565  | nan         | nan             | nan             | nan            | nan            | 2015-10-23T02:32:08Z,2015-10-23T01:25:04Z | nan                                                          | Crunchy Taco                           | Taco Bell                 | 46208      | USD                | 0             | 25            | IN           | http://tacobell.com                             | Taco\n",
       "... (9990 rows omitted)"
      ]
     },
     "execution_count": 130,
     "metadata": {},
     "output_type": "execute_result"
    }
   ],
   "source": [
    "goldman = goldman.sample(10000)\n",
    "f = category(goldman)\n",
    "\n",
    "g = Table.read_table('part1.csv')\n",
    "g"
   ]
  },
  {
   "cell_type": "code",
   "execution_count": 128,
   "metadata": {},
   "outputs": [],
   "source": [
    "goldman2 = Table.read_table('goldman.csv')\n",
    "goldman2 = goldman2.drop('Unnamed: 0').drop('menus.category').drop('priceRangeCurrency')\n",
    "r = ratio(goldman2)"
   ]
  },
  {
   "cell_type": "code",
   "execution_count": null,
   "metadata": {},
   "outputs": [],
   "source": []
  },
  {
   "cell_type": "code",
   "execution_count": null,
   "metadata": {},
   "outputs": [],
   "source": []
  },
  {
   "cell_type": "code",
   "execution_count": null,
   "metadata": {},
   "outputs": [],
   "source": [
    "model_table = model_table.to_df()\n",
    "model_table = pd.merge(model_table, taco)"
   ]
  },
  {
   "cell_type": "code",
   "execution_count": 80,
   "metadata": {},
   "outputs": [],
   "source": [
    "model_table.to_csv('training.csv')"
   ]
  },
  {
   "cell_type": "code",
   "execution_count": 67,
   "metadata": {},
   "outputs": [],
   "source": [
    "def longlat(goldman):\n",
    "    longs = []\n",
    "    lats = []\n",
    "    nomi = pgeocode.Nominatim('fr')\n",
    "    for i in range(0, len(goldman.column('latitude'))):\n",
    "        if math.isnan(goldman.column('latitude').item(i)):\n",
    "            zipcode = goldman.column('postalCode').item(i)\n",
    "            lon = nomi.query_postal_code(str(zipcode))['longitude']\n",
    "            lat = nomi.query_postal_code(str(zipcode))['latitude']\n",
    "            longs.append(lon)\n",
    "            lats.append(lat)\n",
    "            print(lon, lat, goldman.column('city').item(i), zipcode)\n",
    "        else:   \n",
    "            longs.append(goldman.column('longitude').item(i))\n",
    "            lats.append(goldman.column('latitude').item(i))\n",
    "            \n",
    "    return [longs,lats]"
   ]
  },
  {
   "cell_type": "code",
   "execution_count": null,
   "metadata": {},
   "outputs": [],
   "source": []
  },
  {
   "cell_type": "code",
   "execution_count": null,
   "metadata": {},
   "outputs": [],
   "source": []
  },
  {
   "cell_type": "code",
   "execution_count": 167,
   "metadata": {},
   "outputs": [],
   "source": [
    "zips = Table.read_table('zipcodes.csv')\n"
   ]
  },
  {
   "cell_type": "code",
   "execution_count": 165,
   "metadata": {
    "scrolled": true
   },
   "outputs": [
    {
     "data": {
      "text/plain": [
       "array(['11201', '11559', '12866', '15931', '16830', '18034', '1901',\n",
       "       '19119', '19963', '20737', '21146-2530', '21202', '21601', '23690',\n",
       "       '25311', '2601', '27262', '27292', '28078', '28117', '2906',\n",
       "       '2908', '29209', '29615', '29910', '30004', '30066', '30093',\n",
       "       '30097', '30189', '32225', '33033', '33301', '33759', '35957',\n",
       "       '36092', '38059', '38671', '38841', '40076', '40213', '40517',\n",
       "       '41042', '42633', '42718', '43221', '44720', '45245', '45320',\n",
       "       '45690', '46131', '48855', '49509', '52246', '56301', '60110',\n",
       "       '60402', '60622', '60714', '61761', '62002', '62521', '64050',\n",
       "       '64850', '6510', '66611', '6901', '7090', '72956', '73099',\n",
       "       '74021', '7457', '74701', '75051', '75241', '76137', '76504',\n",
       "       '76950', '77092', '77303', '77511', '77541', '7901', '79107',\n",
       "       '79902', '80027', '80504', '80524', '80530', '81003', '81050',\n",
       "       '83402', '83501', '84015', '84041', '84107', '84770', '84780',\n",
       "       '85224', '85251', '85283', '85306', '85706', '85713', '85747',\n",
       "       '86314', '87048', '87102', '87124', '8829', '89030', '89117',\n",
       "       '89835', '90020', '90044', '90201-3527', '90230', '90605', '90631',\n",
       "       '90650', '90740', '90807', '91107', '91303', '91502', '91767',\n",
       "       '91944', '92037', '92040', '92071', '92106', '92117', '92131',\n",
       "       '92210', '92316', '92336', '92404', '92505', '92508', '92553',\n",
       "       '92672', '92804', '92821', '93711', '94110', '94112', '94114-3703',\n",
       "       '94544', '94549', '94618', '95616', '95678', '95688', '95815',\n",
       "       '95834', '97218', '97739', '10065', '11237', '1610', '17033',\n",
       "       '18052', '19034', '20707', '20814', '21128', '21157', '21784',\n",
       "       '22041', '22042', '2301', '23219', '23222', '23451', '23860',\n",
       "       '27545', '2893', '29212', '29407', '29640', '30346', '32223',\n",
       "       '32836', '32839', '33418', '33458', '33480', '33823', '34668',\n",
       "       '34689', '34990', '35007', '37069', '37207', '3820', '40202',\n",
       "       '43219', '46203', '46208', '46222', '46240', '46311', '48108',\n",
       "       '53562', '5401', '59404', '60108', '60126', '6035', '60404',\n",
       "       '60435', '60666', '60707', '61115', '62025', '63122', '6382',\n",
       "       '6514', '66223', '67846', '70458', '70815', '71913', '72116',\n",
       "       '72201', '72207', '72212', '75069', '75204', '75208', '75212',\n",
       "       '76013', '76020', '76039', '76107', '76132', '76201', '7647',\n",
       "       '77002', '77036', '77054', '77494', '77530', '77581', '77584',\n",
       "       '78201', '78218', '78256', '78503', '78520', '80015', '80226',\n",
       "       '80302', '82601', '83642', '83706', '84119', '85023', '85215',\n",
       "       '86001', '87110', '87501', '88001', '8812', '88240', '8901',\n",
       "       '89109', '89129', '89134', '89403', '90024', '90036', '90039',\n",
       "       '90045', '90046', '90245', '90401', '90405', '90620', '90680',\n",
       "       '90731', '90808', '91011', '91101', '91206', '91208', '91367',\n",
       "       '91601', '91766', '91910', '91911', '91978', '92008', '92020',\n",
       "       '92069', '92078', '92101', '92102', '92128', '92130', '92260',\n",
       "       '92374', '92376', '92401', '92618', '92630', '92640', '92651',\n",
       "       '92692', '92802', '92807', '92882', '93030', '93110', '93449',\n",
       "       '93654', '94022', '94063', '94103', '94107-3109', '94520', '94558',\n",
       "       '95073', '95205', '95242', '95355', '95476', '95819', '96150',\n",
       "       '97030', '97209', '97402', '98112', '98133', '98662', '99207'],\n",
       "      dtype='<U10')"
      ]
     },
     "execution_count": 165,
     "metadata": {},
     "output_type": "execute_result"
    }
   ],
   "source": [
    "lala = Table.read_table('r.csv')\n",
    "lala = lala.drop('Unnamed: 0')\n",
    "lala.column('postalCode')"
   ]
  },
  {
   "cell_type": "code",
   "execution_count": 166,
   "metadata": {},
   "outputs": [
    {
     "data": {
      "text/plain": [
       "array(['501', '544', '601', ..., '99928', '99929', '99950'], dtype='<U5')"
      ]
     },
     "execution_count": 166,
     "metadata": {},
     "output_type": "execute_result"
    }
   ],
   "source": [
    "zipzz = Table().with_columns('postalCode', zips.column(0),\n",
    "                            'Longitude', zips.column(1),\n",
    "                            'Latitude', zips.column(2))\n",
    "post = [str(i) for i in zipzz.column('postalCode')]\n",
    "zipzz = zipzz.drop('postalCode').with_column('postalCode', post)\n",
    "zipzz.column('postalCode')"
   ]
  },
  {
   "cell_type": "code",
   "execution_count": 170,
   "metadata": {},
   "outputs": [],
   "source": [
    "final = zipzz.join('postalCode', lala, 'postalCode')   "
   ]
  },
  {
   "cell_type": "code",
   "execution_count": 171,
   "metadata": {},
   "outputs": [],
   "source": [
    "final.to_csv('formap.csv')"
   ]
  },
  {
   "cell_type": "code",
   "execution_count": null,
   "metadata": {},
   "outputs": [],
   "source": []
  }
 ],
 "metadata": {
  "kernelspec": {
   "display_name": "Python 3",
   "language": "python",
   "name": "python3"
  },
  "language_info": {
   "codemirror_mode": {
    "name": "ipython",
    "version": 3
   },
   "file_extension": ".py",
   "mimetype": "text/x-python",
   "name": "python",
   "nbconvert_exporter": "python",
   "pygments_lexer": "ipython3",
   "version": "3.7.0"
  }
 },
 "nbformat": 4,
 "nbformat_minor": 2
}
