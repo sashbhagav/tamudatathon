{
 "cells": [
  {
   "cell_type": "code",
   "execution_count": 30,
   "metadata": {},
   "outputs": [],
   "source": [
    "import numpy as np\n",
    "import pandas as pd\n",
    "from datascience import *\n",
    "import pgeocode\n",
    "import math"
   ]
  },
  {
   "cell_type": "code",
   "execution_count": null,
   "metadata": {},
   "outputs": [],
   "source": []
  },
  {
   "cell_type": "code",
   "execution_count": 56,
   "metadata": {},
   "outputs": [],
   "source": [
    "# goldman = Table.read_table('../../just tacos and burritos.csv')\n",
    "# goldman = goldman.sample(1000)\n",
    "# goldman.show(15)"
   ]
  },
  {
   "cell_type": "code",
   "execution_count": null,
   "metadata": {},
   "outputs": [],
   "source": []
  },
  {
   "cell_type": "code",
   "execution_count": 59,
   "metadata": {},
   "outputs": [],
   "source": [
    "# stores = goldman.group('websites')\n",
    "# stores.show(10)"
   ]
  },
  {
   "cell_type": "code",
   "execution_count": 58,
   "metadata": {
    "scrolled": false
   },
   "outputs": [],
   "source": [
    "# cuisines = goldman.group('cuisines')\n",
    "# cuisines.show(5)"
   ]
  },
  {
   "cell_type": "code",
   "execution_count": 5,
   "metadata": {},
   "outputs": [
    {
     "data": {
      "text/html": [
       "<table border=\"1\" class=\"dataframe\">\n",
       "    <thead>\n",
       "        <tr>\n",
       "            <th>country</th> <th>count</th>\n",
       "        </tr>\n",
       "    </thead>\n",
       "    <tbody>\n",
       "        <tr>\n",
       "            <td>US     </td> <td>1000 </td>\n",
       "        </tr>\n",
       "    </tbody>\n",
       "</table>"
      ],
      "text/plain": [
       "<IPython.core.display.HTML object>"
      ]
     },
     "metadata": {},
     "output_type": "display_data"
    }
   ],
   "source": [
    "# locs = goldman.group('country')\n",
    "# locs.show()"
   ]
  },
  {
   "cell_type": "code",
   "execution_count": 6,
   "metadata": {},
   "outputs": [],
   "source": [
    "goldman = goldman.drop('country').drop('id').drop('dateAdded').drop('dateUpdated').drop('menus.dateSeen').drop('menus.currency')"
   ]
  },
  {
   "cell_type": "code",
   "execution_count": 7,
   "metadata": {
    "scrolled": false
   },
   "outputs": [],
   "source": [
    "# goldman.sample(200).show()\n",
    "categories = []\n",
    "goldman.column('menus.name').item(9)\n",
    "for i in range(0, len(goldman.column('menus.name'))):\n",
    "    name = goldman.column('menus.name').item(i)\n",
    "    if 'burrito' in name or 'Burrito' in name:\n",
    "        categories.append('Burrito')\n",
    "    else:\n",
    "        categories.append('Taco')"
   ]
  },
  {
   "cell_type": "code",
   "execution_count": 8,
   "metadata": {},
   "outputs": [],
   "source": [
    "goldman = goldman.with_column('Categories', categories)\n",
    "for i in range(25, 30):\n",
    "    name = 'Unnamed: '+str(i)\n",
    "    goldman.drop(name)"
   ]
  },
  {
   "cell_type": "code",
   "execution_count": 60,
   "metadata": {},
   "outputs": [],
   "source": [
    "piv = goldman.pivot('cuisines', 'name')\n",
    "# piv.show(5)"
   ]
  },
  {
   "cell_type": "code",
   "execution_count": null,
   "metadata": {},
   "outputs": [],
   "source": []
  },
  {
   "cell_type": "code",
   "execution_count": 11,
   "metadata": {},
   "outputs": [],
   "source": [
    "df = goldman.to_df()"
   ]
  },
  {
   "cell_type": "code",
   "execution_count": 12,
   "metadata": {},
   "outputs": [],
   "source": [
    "df2 = df.drop(['Unnamed: 235'], axis = 1)"
   ]
  },
  {
   "cell_type": "code",
   "execution_count": 13,
   "metadata": {},
   "outputs": [],
   "source": [
    "for i in range(26, 236):\n",
    "    name = 'Unnamed: '+str(i)\n",
    "    df = df.drop([name], axis = 1)"
   ]
  },
  {
   "cell_type": "code",
   "execution_count": 14,
   "metadata": {},
   "outputs": [],
   "source": [
    "df.to_csv('goldman.csv')"
   ]
  },
  {
   "cell_type": "code",
   "execution_count": 15,
   "metadata": {},
   "outputs": [],
   "source": [
    "goldman2 = Table.read_table('goldman.csv')\n",
    "goldman2 = goldman2.drop('Unnamed: 0').drop('menus.category').drop('priceRangeCurrency')"
   ]
  },
  {
   "cell_type": "code",
   "execution_count": 16,
   "metadata": {},
   "outputs": [],
   "source": [
    "burrito = goldman2.where('Categories', are.equal_to('Burrito'))\n",
    "taco = goldman2.where('Categories', are.equal_to('Taco'))"
   ]
  },
  {
   "cell_type": "code",
   "execution_count": 61,
   "metadata": {},
   "outputs": [],
   "source": [
    "# burrito.show(10)\n",
    "# taco.show(10)"
   ]
  },
  {
   "cell_type": "code",
   "execution_count": null,
   "metadata": {},
   "outputs": [],
   "source": []
  },
  {
   "cell_type": "code",
   "execution_count": 62,
   "metadata": {},
   "outputs": [],
   "source": [
    "burrito_rat = burrito.group('city')\n",
    "# burrito_rat.show(5)"
   ]
  },
  {
   "cell_type": "code",
   "execution_count": 63,
   "metadata": {},
   "outputs": [],
   "source": [
    "taco_rat = taco.group('city')\n",
    "# taco_rat.show(5)"
   ]
  },
  {
   "cell_type": "code",
   "execution_count": 64,
   "metadata": {},
   "outputs": [],
   "source": [
    "ratio = taco_rat.join('city', burrito_rat, 'city')\n",
    "# ratio.show(10)"
   ]
  },
  {
   "cell_type": "code",
   "execution_count": 21,
   "metadata": {},
   "outputs": [
    {
     "data": {
      "text/html": [
       "<table border=\"1\" class=\"dataframe\">\n",
       "    <thead>\n",
       "        <tr>\n",
       "            <th>city</th> <th>Tacos</th> <th>Burritos</th>\n",
       "        </tr>\n",
       "    </thead>\n",
       "    <tbody>\n",
       "        <tr>\n",
       "            <td>Albuquerque</td> <td>3    </td> <td>4       </td>\n",
       "        </tr>\n",
       "        <tr>\n",
       "            <td>Alpharetta </td> <td>2    </td> <td>1       </td>\n",
       "        </tr>\n",
       "        <tr>\n",
       "            <td>Anaheim    </td> <td>2    </td> <td>1       </td>\n",
       "        </tr>\n",
       "        <tr>\n",
       "            <td>Atlanta    </td> <td>2    </td> <td>2       </td>\n",
       "        </tr>\n",
       "        <tr>\n",
       "            <td>Aurora     </td> <td>1    </td> <td>1       </td>\n",
       "        </tr>\n",
       "        <tr>\n",
       "            <td>Azusa      </td> <td>2    </td> <td>3       </td>\n",
       "        </tr>\n",
       "        <tr>\n",
       "            <td>Bakersfield</td> <td>1    </td> <td>2       </td>\n",
       "        </tr>\n",
       "        <tr>\n",
       "            <td>Baltimore  </td> <td>3    </td> <td>1       </td>\n",
       "        </tr>\n",
       "        <tr>\n",
       "            <td>Beeville   </td> <td>1    </td> <td>1       </td>\n",
       "        </tr>\n",
       "        <tr>\n",
       "            <td>Boise      </td> <td>2    </td> <td>2       </td>\n",
       "        </tr>\n",
       "    </tbody>\n",
       "</table>\n",
       "<p>... (86 rows omitted)</p>"
      ],
      "text/plain": [
       "city        | Tacos | Burritos\n",
       "Albuquerque | 3     | 4\n",
       "Alpharetta  | 2     | 1\n",
       "Anaheim     | 2     | 1\n",
       "Atlanta     | 2     | 2\n",
       "Aurora      | 1     | 1\n",
       "Azusa       | 2     | 3\n",
       "Bakersfield | 1     | 2\n",
       "Baltimore   | 3     | 1\n",
       "Beeville    | 1     | 1\n",
       "Boise       | 2     | 2\n",
       "... (86 rows omitted)"
      ]
     },
     "execution_count": 21,
     "metadata": {},
     "output_type": "execute_result"
    }
   ],
   "source": [
    "ratio.relabel('count', 'Tacos')\n",
    "ratio.relabel('count_2', 'Burritos')"
   ]
  },
  {
   "cell_type": "code",
   "execution_count": 22,
   "metadata": {},
   "outputs": [],
   "source": [
    "ratio = ratio.with_columns('Ratio of Burritos/Tacos', ratio.column('Burritos')/ratio.column('Tacos'))"
   ]
  },
  {
   "cell_type": "markdown",
   "metadata": {},
   "source": [
    "## Question 1"
   ]
  },
  {
   "cell_type": "code",
   "execution_count": 66,
   "metadata": {},
   "outputs": [
    {
     "data": {
      "text/html": [
       "<table border=\"1\" class=\"dataframe\">\n",
       "    <thead>\n",
       "        <tr>\n",
       "            <th>city</th> <th>count</th> <th>count_2</th>\n",
       "        </tr>\n",
       "    </thead>\n",
       "    <tbody>\n",
       "        <tr>\n",
       "            <td>Albuquerque</td> <td>3    </td> <td>4      </td>\n",
       "        </tr>\n",
       "        <tr>\n",
       "            <td>Alpharetta </td> <td>2    </td> <td>1      </td>\n",
       "        </tr>\n",
       "        <tr>\n",
       "            <td>Anaheim    </td> <td>2    </td> <td>1      </td>\n",
       "        </tr>\n",
       "        <tr>\n",
       "            <td>Atlanta    </td> <td>2    </td> <td>2      </td>\n",
       "        </tr>\n",
       "        <tr>\n",
       "            <td>Aurora     </td> <td>1    </td> <td>1      </td>\n",
       "        </tr>\n",
       "        <tr>\n",
       "            <td>Azusa      </td> <td>2    </td> <td>3      </td>\n",
       "        </tr>\n",
       "        <tr>\n",
       "            <td>Bakersfield</td> <td>1    </td> <td>2      </td>\n",
       "        </tr>\n",
       "        <tr>\n",
       "            <td>Baltimore  </td> <td>3    </td> <td>1      </td>\n",
       "        </tr>\n",
       "        <tr>\n",
       "            <td>Beeville   </td> <td>1    </td> <td>1      </td>\n",
       "        </tr>\n",
       "        <tr>\n",
       "            <td>Boise      </td> <td>2    </td> <td>2      </td>\n",
       "        </tr>\n",
       "    </tbody>\n",
       "</table>\n",
       "<p>... (86 rows omitted)</p>"
      ],
      "text/plain": [
       "<IPython.core.display.HTML object>"
      ]
     },
     "metadata": {},
     "output_type": "display_data"
    }
   ],
   "source": [
    "ratio.show(10)"
   ]
  },
  {
   "cell_type": "markdown",
   "metadata": {},
   "source": [
    "## #2"
   ]
  },
  {
   "cell_type": "code",
   "execution_count": 65,
   "metadata": {},
   "outputs": [],
   "source": [
    "# goldman2.group('city')"
   ]
  },
  {
   "cell_type": "code",
   "execution_count": 67,
   "metadata": {},
   "outputs": [],
   "source": [
    "# goldman = Table.read_table('../../just tacos and burritos.csv')\n",
    "# # "
   ]
  },
  {
   "cell_type": "code",
   "execution_count": 68,
   "metadata": {},
   "outputs": [],
   "source": [
    "# goldman = goldman.sample(10000)\n",
    "# id_g = goldman.group('city')\n",
    "# id_g.show(10)"
   ]
  },
  {
   "cell_type": "code",
   "execution_count": 69,
   "metadata": {},
   "outputs": [],
   "source": [
    "# locations = []\n",
    "# count = 1\n",
    "# for i in id_g.column('id'):\n",
    "#     city = goldman.where('id', are.equal_to(i)).column('city').item(0)\n",
    "#     print(city, count)\n",
    "#     locations.append(city)\n",
    "#     count += 1"
   ]
  },
  {
   "cell_type": "code",
   "execution_count": 31,
   "metadata": {},
   "outputs": [],
   "source": [
    "# id_g = id_g.with_column('City', locations)"
   ]
  },
  {
   "cell_type": "code",
   "execution_count": 70,
   "metadata": {},
   "outputs": [],
   "source": [
    "# id_g"
   ]
  },
  {
   "cell_type": "code",
   "execution_count": 123,
   "metadata": {},
   "outputs": [],
   "source": [
    "def ratio(goldman2):\n",
    "    burrito = goldman2.where('Categories', are.equal_to('Burrito'))\n",
    "    taco = goldman2.where('Categories', are.equal_to('Taco'))\n",
    "    \n",
    "    burrito_rat = burrito.group('postalCode').relabel('count', 'burrito')\n",
    "    taco_rat = taco.group('postalCode').relabel('count', 'taco')\n",
    "    \n",
    "    ratio = pd.merge(burrito_rat.to_df(), taco_rat.to_df(), how = \"outer\")\n",
    "    \n",
    "    ratio['Ratio of Burritos/Taco'] = ratio['burrito']/ratio['taco']\n",
    "    ratio.to_csv('training.csv')\n",
    "    return ratio"
   ]
  },
  {
   "cell_type": "code",
   "execution_count": 129,
   "metadata": {},
   "outputs": [],
   "source": [
    "def category(goldman):\n",
    "    # goldman.sample(200).show()\n",
    "    categories = []\n",
    "    goldman.column('menus.name').item(9)\n",
    "    for i in range(0, len(goldman.column('menus.name'))):\n",
    "        name = goldman.column('menus.name').item(i)\n",
    "        if 'burrito' in name or 'Burrito' in name:\n",
    "            categories.append('Burrito')\n",
    "        else:\n",
    "            categories.append('Taco')\n",
    "    goldman = goldman.with_column('Categories', categories)\n",
    "    df = goldman.to_df()\n",
    "    \n",
    "    for i in range(26, 236):\n",
    "        name = 'Unnamed: '+str(i)\n",
    "        df = df.drop([name], axis = 1)\n",
    "    df.to_csv('part1.csv')\n",
    "    return df"
   ]
  },
  {
   "cell_type": "code",
   "execution_count": 36,
   "metadata": {},
   "outputs": [],
   "source": [
    "goldman = Table.read_table('../../just tacos and burritos.csv')"
   ]
  },
  {
   "cell_type": "code",
   "execution_count": 130,
   "metadata": {
    "scrolled": true
   },
   "outputs": [
    {
     "data": {
      "text/html": [
       "<table border=\"1\" class=\"dataframe\">\n",
       "    <thead>\n",
       "        <tr>\n",
       "            <th>Unnamed: 0</th> <th>id</th> <th>address</th> <th>categories</th> <th>city</th> <th>country</th> <th>cuisines</th> <th>dateAdded</th> <th>dateUpdated</th> <th>keys</th> <th>latitude</th> <th>longitude</th> <th>menuPageURL</th> <th>menus.amountMax</th> <th>menus.amountMin</th> <th>menus.category</th> <th>menus.currency</th> <th>menus.dateSeen</th> <th>menus.description</th> <th>menus.name</th> <th>name</th> <th>postalCode</th> <th>priceRangeCurrency</th> <th>priceRangeMin</th> <th>priceRangeMax</th> <th>province</th> <th>websites</th> <th>Categories</th>\n",
       "        </tr>\n",
       "    </thead>\n",
       "    <tbody>\n",
       "        <tr>\n",
       "            <td>0         </td> <td>AVwcijlNByjofQCxfYAI</td> <td>2400 Fletcher Dr    </td> <td>Fast Food Restaurant,Restaurant                             </td> <td>Los Angeles </td> <td>US     </td> <td>Fast Food Restaurants</td> <td>2016-03-24T09:38:01Z</td> <td>2017-07-06T11:14:39Z</td> <td>us/ca/losangeles/2400fletcherdr/558764851            </td> <td>34.106  </td> <td>-118.257 </td> <td>nan        </td> <td>6.84           </td> <td>6.84           </td> <td>nan           </td> <td>USD           </td> <td>2016-09-08T10:45:31Z,2016-03-24T09:38:01Z</td> <td>nan                                                         </td> <td>Chicken Taco (2 Soft Shell)           </td> <td>Rick's Drive In & Out    </td> <td>90039     </td> <td>USD               </td> <td>0            </td> <td>25           </td> <td>CA          </td> <td>http://www.ricksdriveinandout.com              </td> <td>Taco      </td>\n",
       "        </tr>\n",
       "        <tr>\n",
       "            <td>1         </td> <td>AVwc-D4Z_7pvs4fz04pF</td> <td>455 Park Ave        </td> <td>American Restaurant                                         </td> <td>Worcester   </td> <td>US     </td> <td>nan                  </td> <td>2016-06-20T15:24:18Z</td> <td>2016-07-06T21:11:09Z</td> <td>us/ma/worcester/455parkave/168359587                 </td> <td>42.2545 </td> <td>-71.8254 </td> <td>nan        </td> <td>12             </td> <td>12             </td> <td>nan           </td> <td>USD           </td> <td>2016-06-20T15:24:18Z                     </td> <td>Chipotle-cinnamon dusted rare tuna, lettuce, tomato, avo ...</td> <td>Tuna Tacos                            </td> <td>Peppercorn's Grille & Bar</td> <td>1610      </td> <td>USD               </td> <td>25           </td> <td>40           </td> <td>MA          </td> <td>nan                                            </td> <td>Taco      </td>\n",
       "        </tr>\n",
       "        <tr>\n",
       "            <td>2         </td> <td>AVwd9B-FByjofQCxt-Fv</td> <td>2524 W Main         </td> <td>Tex-Mex Restaurant,american restaurant                      </td> <td>Durant      </td> <td>US     </td> <td>nan                  </td> <td>2015-09-21T09:32:12Z</td> <td>2016-03-30T03:58:29Z</td> <td>us/ok/durant/2524wmain/379971047                     </td> <td>33.9997 </td> <td>-96.4091 </td> <td>nan        </td> <td>nan            </td> <td>nan            </td> <td>nan           </td> <td>nan           </td> <td>2016-03-30T03:58:29Z                     </td> <td>nan                                                         </td> <td>Smothered Carnitas Burrito            </td> <td>Chili's Grill & Bar      </td> <td>74701     </td> <td>USD               </td> <td>25           </td> <td>40           </td> <td>OK          </td> <td>nan                                            </td> <td>Burrito   </td>\n",
       "        </tr>\n",
       "        <tr>\n",
       "            <td>3         </td> <td>AVweUwBMIN2L1WUf37bD</td> <td>1191 First Ave      </td> <td>Restaurant                                                  </td> <td>New York    </td> <td>US     </td> <td>Mexican              </td> <td>2015-10-19T20:44:43Z</td> <td>2016-08-22T12:00:11Z</td> <td>us/ny/newyork/1191firstave/-739575213                </td> <td>40.763  </td> <td>-73.9595 </td> <td>nan        </td> <td>5              </td> <td>5              </td> <td>Botanas       </td> <td>USD           </td> <td>2016-04-24T00:00:00Z                     </td> <td>nan                                                         </td> <td>Al Pastor Taco                        </td> <td>Maya - New York          </td> <td>10065     </td> <td>USD               </td> <td>0            </td> <td>30           </td> <td>NY          </td> <td>http://www.richardsandoval.com/mayany/index.php</td> <td>Taco      </td>\n",
       "        </tr>\n",
       "        <tr>\n",
       "            <td>4         </td> <td>AVwdEU4V_7pvs4fz16_T</td> <td>298 Irving Ave      </td> <td>Mexican Restaurant,nonclassifiable establishments           </td> <td>Brooklyn    </td> <td>US     </td> <td>nan                  </td> <td>2015-10-20T01:39:21Z</td> <td>2017-07-06T19:33:50Z</td> <td>us/ny/brooklyn/298irvingave/1766271113               </td> <td>nan     </td> <td>nan      </td> <td>nan        </td> <td>7              </td> <td>7              </td> <td>nan           </td> <td>USD           </td> <td>2016-04-01T06:40:50Z                     </td> <td>nan                                                         </td> <td>Torta, Taco Al Pastor and Soda        </td> <td>Taqueria El Paisa        </td> <td>11237     </td> <td>USD               </td> <td>0            </td> <td>25           </td> <td>NY          </td> <td>nan                                            </td> <td>Taco      </td>\n",
       "        </tr>\n",
       "        <tr>\n",
       "            <td>5         </td> <td>AVwd7QbGkufWRAb5-dBJ</td> <td>2035 W Washington St</td> <td>Fast Food Restaurant,Mexican Restaurant,Mexican Restaura ...</td> <td>Indianapolis</td> <td>US     </td> <td>nan                  </td> <td>2015-10-23T02:42:16Z</td> <td>2017-07-06T18:35:41Z</td> <td>us/in/indianapolis/2035wwashingtonst/-864103396      </td> <td>nan     </td> <td>nan      </td> <td>nan        </td> <td>nan            </td> <td>nan            </td> <td>nan           </td> <td>nan           </td> <td>2016-03-21T00:25:04Z                     </td> <td>nan                                                         </td> <td>Crispy Potato Soft Taco               </td> <td>Taco Bell                </td> <td>46222     </td> <td>nan               </td> <td>nan          </td> <td>nan          </td> <td>IN          </td> <td>http://tacobell.com                            </td> <td>Taco      </td>\n",
       "        </tr>\n",
       "        <tr>\n",
       "            <td>6         </td> <td>AVwcx_k2ByjofQCxiH4I</td> <td>4450 Eastgate Blvd  </td> <td>Mexican Restaurant                                          </td> <td>Cincinnati  </td> <td>US     </td> <td>nan                  </td> <td>2016-10-27T02:02:54Z</td> <td>2016-10-27T02:02:54Z</td> <td>us/cherrygrove/cincinnati/4450eastgateblvd/-654801229</td> <td>nan     </td> <td>nan      </td> <td>nan        </td> <td>10.5           </td> <td>10.5           </td> <td>nan           </td> <td>USD           </td> <td>2016-10-27T02:02:54Z                     </td> <td>A flour tortilla stuffed with steak chunks, onions, chee ...</td> <td>Burrito De Carne Asada                </td> <td>Rincon Mexicano          </td> <td>45245     </td> <td>USD               </td> <td>25           </td> <td>40           </td> <td>Cherry Grove</td> <td>http://rinconeastgate.com                      </td> <td>Burrito   </td>\n",
       "        </tr>\n",
       "        <tr>\n",
       "            <td>7         </td> <td>AVwdExGnkufWRAb52CvO</td> <td>816 Boyd Rd         </td> <td>Taco Place,Azle Restaurants,Restaurant                      </td> <td>Azle        </td> <td>US     </td> <td>Mexican              </td> <td>2016-03-29T05:17:59Z</td> <td>2016-07-06T20:54:33Z</td> <td>us/tx/azle/816boydrd/-864077243                      </td> <td>32.9076 </td> <td>-97.543  </td> <td>nan        </td> <td>5.16           </td> <td>5.16           </td> <td>nan           </td> <td>USD           </td> <td>2016-03-29T05:17:59Z,2016-05-24T05:47:37Z</td> <td>nan                                                         </td> <td>Enchilada, Taco, Rice, Frijoles, Chips</td> <td>Taco Casa                </td> <td>76020     </td> <td>nan               </td> <td>nan          </td> <td>nan          </td> <td>TX          </td> <td>http://www.tacocasatexas.com                   </td> <td>Taco      </td>\n",
       "        </tr>\n",
       "        <tr>\n",
       "            <td>8         </td> <td>AVwdExGnkufWRAb52CvO</td> <td>816 Boyd Rd         </td> <td>Taco Place,Azle Restaurants,Restaurant                      </td> <td>Azle        </td> <td>US     </td> <td>Mexican              </td> <td>2016-03-29T05:17:59Z</td> <td>2016-07-06T20:54:33Z</td> <td>us/tx/azle/816boydrd/-864077243                      </td> <td>32.9076 </td> <td>-97.543  </td> <td>nan        </td> <td>5.16           </td> <td>5.16           </td> <td>nan           </td> <td>USD           </td> <td>2016-03-29T05:17:59Z,2016-05-24T05:47:37Z</td> <td>nan                                                         </td> <td>Enchilada, Taco, Rice, Frijoles, Chips</td> <td>Taco Casa                </td> <td>76020     </td> <td>nan               </td> <td>nan          </td> <td>nan          </td> <td>TX          </td> <td>http://www.tacocasatexas.com                   </td> <td>Taco      </td>\n",
       "        </tr>\n",
       "        <tr>\n",
       "            <td>9         </td> <td>AVwcz-6dkufWRAb5zSAf</td> <td>2401 N Meridian St  </td> <td>Fast Food Restaurant,Mexican Restaurant,Fast Food Restau ...</td> <td>Indianapolis</td> <td>US     </td> <td>nan                  </td> <td>2015-10-23T01:25:04Z</td> <td>2017-07-03T11:13:25Z</td> <td>us/in/indianapolis/2401nmeridianst/-864103396        </td> <td>39.8014 </td> <td>-86.1565 </td> <td>nan        </td> <td>nan            </td> <td>nan            </td> <td>nan           </td> <td>nan           </td> <td>2015-10-23T02:32:08Z,2015-10-23T01:25:04Z</td> <td>nan                                                         </td> <td>Crunchy Taco                          </td> <td>Taco Bell                </td> <td>46208     </td> <td>USD               </td> <td>0            </td> <td>25           </td> <td>IN          </td> <td>http://tacobell.com                            </td> <td>Taco      </td>\n",
       "        </tr>\n",
       "    </tbody>\n",
       "</table>\n",
       "<p>... (9990 rows omitted)</p>"
      ],
      "text/plain": [
       "Unnamed: 0 | id                   | address              | categories                                                   | city         | country | cuisines              | dateAdded            | dateUpdated          | keys                                                  | latitude | longitude | menuPageURL | menus.amountMax | menus.amountMin | menus.category | menus.currency | menus.dateSeen                            | menus.description                                            | menus.name                             | name                      | postalCode | priceRangeCurrency | priceRangeMin | priceRangeMax | province     | websites                                        | Categories\n",
       "0          | AVwcijlNByjofQCxfYAI | 2400 Fletcher Dr     | Fast Food Restaurant,Restaurant                              | Los Angeles  | US      | Fast Food Restaurants | 2016-03-24T09:38:01Z | 2017-07-06T11:14:39Z | us/ca/losangeles/2400fletcherdr/558764851             | 34.106   | -118.257  | nan         | 6.84            | 6.84            | nan            | USD            | 2016-09-08T10:45:31Z,2016-03-24T09:38:01Z | nan                                                          | Chicken Taco (2 Soft Shell)            | Rick's Drive In & Out     | 90039      | USD                | 0             | 25            | CA           | http://www.ricksdriveinandout.com               | Taco\n",
       "1          | AVwc-D4Z_7pvs4fz04pF | 455 Park Ave         | American Restaurant                                          | Worcester    | US      | nan                   | 2016-06-20T15:24:18Z | 2016-07-06T21:11:09Z | us/ma/worcester/455parkave/168359587                  | 42.2545  | -71.8254  | nan         | 12              | 12              | nan            | USD            | 2016-06-20T15:24:18Z                      | Chipotle-cinnamon dusted rare tuna, lettuce, tomato, avo ... | Tuna Tacos                             | Peppercorn's Grille & Bar | 1610       | USD                | 25            | 40            | MA           | nan                                             | Taco\n",
       "2          | AVwd9B-FByjofQCxt-Fv | 2524 W Main          | Tex-Mex Restaurant,american restaurant                       | Durant       | US      | nan                   | 2015-09-21T09:32:12Z | 2016-03-30T03:58:29Z | us/ok/durant/2524wmain/379971047                      | 33.9997  | -96.4091  | nan         | nan             | nan             | nan            | nan            | 2016-03-30T03:58:29Z                      | nan                                                          | Smothered Carnitas Burrito             | Chili's Grill & Bar       | 74701      | USD                | 25            | 40            | OK           | nan                                             | Burrito\n",
       "3          | AVweUwBMIN2L1WUf37bD | 1191 First Ave       | Restaurant                                                   | New York     | US      | Mexican               | 2015-10-19T20:44:43Z | 2016-08-22T12:00:11Z | us/ny/newyork/1191firstave/-739575213                 | 40.763   | -73.9595  | nan         | 5               | 5               | Botanas        | USD            | 2016-04-24T00:00:00Z                      | nan                                                          | Al Pastor Taco                         | Maya - New York           | 10065      | USD                | 0             | 30            | NY           | http://www.richardsandoval.com/mayany/index.php | Taco\n",
       "4          | AVwdEU4V_7pvs4fz16_T | 298 Irving Ave       | Mexican Restaurant,nonclassifiable establishments            | Brooklyn     | US      | nan                   | 2015-10-20T01:39:21Z | 2017-07-06T19:33:50Z | us/ny/brooklyn/298irvingave/1766271113                | nan      | nan       | nan         | 7               | 7               | nan            | USD            | 2016-04-01T06:40:50Z                      | nan                                                          | Torta, Taco Al Pastor and Soda         | Taqueria El Paisa         | 11237      | USD                | 0             | 25            | NY           | nan                                             | Taco\n",
       "5          | AVwd7QbGkufWRAb5-dBJ | 2035 W Washington St | Fast Food Restaurant,Mexican Restaurant,Mexican Restaura ... | Indianapolis | US      | nan                   | 2015-10-23T02:42:16Z | 2017-07-06T18:35:41Z | us/in/indianapolis/2035wwashingtonst/-864103396       | nan      | nan       | nan         | nan             | nan             | nan            | nan            | 2016-03-21T00:25:04Z                      | nan                                                          | Crispy Potato Soft Taco                | Taco Bell                 | 46222      | nan                | nan           | nan           | IN           | http://tacobell.com                             | Taco\n",
       "6          | AVwcx_k2ByjofQCxiH4I | 4450 Eastgate Blvd   | Mexican Restaurant                                           | Cincinnati   | US      | nan                   | 2016-10-27T02:02:54Z | 2016-10-27T02:02:54Z | us/cherrygrove/cincinnati/4450eastgateblvd/-654801229 | nan      | nan       | nan         | 10.5            | 10.5            | nan            | USD            | 2016-10-27T02:02:54Z                      | A flour tortilla stuffed with steak chunks, onions, chee ... | Burrito De Carne Asada                 | Rincon Mexicano           | 45245      | USD                | 25            | 40            | Cherry Grove | http://rinconeastgate.com                       | Burrito\n",
       "7          | AVwdExGnkufWRAb52CvO | 816 Boyd Rd          | Taco Place,Azle Restaurants,Restaurant                       | Azle         | US      | Mexican               | 2016-03-29T05:17:59Z | 2016-07-06T20:54:33Z | us/tx/azle/816boydrd/-864077243                       | 32.9076  | -97.543   | nan         | 5.16            | 5.16            | nan            | USD            | 2016-03-29T05:17:59Z,2016-05-24T05:47:37Z | nan                                                          | Enchilada, Taco, Rice, Frijoles, Chips | Taco Casa                 | 76020      | nan                | nan           | nan           | TX           | http://www.tacocasatexas.com                    | Taco\n",
       "8          | AVwdExGnkufWRAb52CvO | 816 Boyd Rd          | Taco Place,Azle Restaurants,Restaurant                       | Azle         | US      | Mexican               | 2016-03-29T05:17:59Z | 2016-07-06T20:54:33Z | us/tx/azle/816boydrd/-864077243                       | 32.9076  | -97.543   | nan         | 5.16            | 5.16            | nan            | USD            | 2016-03-29T05:17:59Z,2016-05-24T05:47:37Z | nan                                                          | Enchilada, Taco, Rice, Frijoles, Chips | Taco Casa                 | 76020      | nan                | nan           | nan           | TX           | http://www.tacocasatexas.com                    | Taco\n",
       "9          | AVwcz-6dkufWRAb5zSAf | 2401 N Meridian St   | Fast Food Restaurant,Mexican Restaurant,Fast Food Restau ... | Indianapolis | US      | nan                   | 2015-10-23T01:25:04Z | 2017-07-03T11:13:25Z | us/in/indianapolis/2401nmeridianst/-864103396         | 39.8014  | -86.1565  | nan         | nan             | nan             | nan            | nan            | 2015-10-23T02:32:08Z,2015-10-23T01:25:04Z | nan                                                          | Crunchy Taco                           | Taco Bell                 | 46208      | USD                | 0             | 25            | IN           | http://tacobell.com                             | Taco\n",
       "... (9990 rows omitted)"
      ]
     },
     "execution_count": 130,
     "metadata": {},
     "output_type": "execute_result"
    }
   ],
   "source": [
    "goldman = goldman.sample(10000)\n",
    "f = category(goldman)\n",
    "\n",
    "g = Table.read_table('part1.csv')\n",
    "g"
   ]
  },
  {
   "cell_type": "code",
   "execution_count": 128,
   "metadata": {},
   "outputs": [],
   "source": [
    "goldman2 = Table.read_table('goldman.csv')\n",
    "goldman2 = goldman2.drop('Unnamed: 0').drop('menus.category').drop('priceRangeCurrency')\n",
    "r = ratio(goldman2)\n",
    "r.head()\n",
    "r.to_csv('r.csv')\n",
    "# burrito = goldman2.where('Categories', are.equal_to('Burrito'))\n",
    "# taco = goldman2.where('Categories', are.equal_to('Taco'))\n",
    "\n",
    "# burrito_rat = burrito.group('postalCode').relabel('count', 'burrito')\n",
    "# taco_rat = taco.group('postalCode').relabel('count', 'taco')\n",
    "\n",
    "\n",
    "# model_table = ratio(goldman2)\n",
    "# f.to_csv('finaltrainhopefully.csv')"
   ]
  },
  {
   "cell_type": "code",
   "execution_count": null,
   "metadata": {},
   "outputs": [],
   "source": []
  },
  {
   "cell_type": "code",
   "execution_count": 119,
   "metadata": {},
   "outputs": [
    {
     "data": {
      "text/html": [
       "<table border=\"1\" class=\"dataframe\">\n",
       "    <thead>\n",
       "        <tr>\n",
       "            <th>postalCode</th> <th>Tacos</th> <th>Burritos</th> <th>Ratio of Burritos/Tacos</th>\n",
       "        </tr>\n",
       "    </thead>\n",
       "    <tbody>\n",
       "        <tr>\n",
       "            <td>12866     </td> <td>13   </td> <td>24      </td> <td>1.84615                </td>\n",
       "        </tr>\n",
       "        <tr>\n",
       "            <td>2601      </td> <td>37   </td> <td>45      </td> <td>1.21622                </td>\n",
       "        </tr>\n",
       "        <tr>\n",
       "            <td>27292     </td> <td>25   </td> <td>8       </td> <td>0.32                   </td>\n",
       "        </tr>\n",
       "        <tr>\n",
       "            <td>28078     </td> <td>33   </td> <td>27      </td> <td>0.818182               </td>\n",
       "        </tr>\n",
       "        <tr>\n",
       "            <td>66611     </td> <td>30   </td> <td>9       </td> <td>0.3                    </td>\n",
       "        </tr>\n",
       "    </tbody>\n",
       "</table>\n",
       "<p>... (11 rows omitted)</p>"
      ],
      "text/plain": [
       "<IPython.core.display.HTML object>"
      ]
     },
     "metadata": {},
     "output_type": "display_data"
    }
   ],
   "source": [
    "model_table.show(5)"
   ]
  },
  {
   "cell_type": "code",
   "execution_count": null,
   "metadata": {},
   "outputs": [],
   "source": [
    "model_table = model_table.to_df()\n",
    "model_table = pd.merge(model_table, taco)"
   ]
  },
  {
   "cell_type": "code",
   "execution_count": 80,
   "metadata": {},
   "outputs": [],
   "source": [
    "model_table.to_csv('training.csv')"
   ]
  },
  {
   "cell_type": "code",
   "execution_count": 67,
   "metadata": {},
   "outputs": [],
   "source": [
    "def longlat(goldman):\n",
    "    longs = []\n",
    "    lats = []\n",
    "    nomi = pgeocode.Nominatim('fr')\n",
    "    for i in range(0, len(goldman.column('latitude'))):\n",
    "        if math.isnan(goldman.column('latitude').item(i)):\n",
    "            zipcode = goldman.column('postalCode').item(i)\n",
    "            lon = nomi.query_postal_code(str(zipcode))['longitude']\n",
    "            lat = nomi.query_postal_code(str(zipcode))['latitude']\n",
    "            longs.append(lon)\n",
    "            lats.append(lat)\n",
    "            print(lon, lat, goldman.column('city').item(i), zipcode)\n",
    "        else:   \n",
    "            longs.append(goldman.column('longitude').item(i))\n",
    "            lats.append(goldman.column('latitude').item(i))\n",
    "            \n",
    "    return [longs,lats]"
   ]
  },
  {
   "cell_type": "code",
   "execution_count": 68,
   "metadata": {},
   "outputs": [
    {
     "name": "stdout",
     "output_type": "stream",
     "text": [
      "nan nan Elmwood Park 60707\n",
      "nan nan Stamford 6901\n",
      "nan nan Glendale 91206\n",
      "nan nan Longmont 80504\n",
      "nan nan San Antonio 78218\n",
      "nan nan San Diego 92131\n",
      "nan nan Napa 94558\n",
      "nan nan Port Richey 34668\n",
      "nan nan Portland 97209\n",
      "nan nan Houston 77002\n",
      "nan nan Reedley 93654\n",
      "nan nan Brockton 2301\n",
      "nan nan Perry Hall 21128\n",
      "nan nan Las Vegas 89117\n",
      "nan nan Glendale 91208\n",
      "nan nan Cincinnati 45245\n",
      "nan nan Port Richey 34668\n",
      "nan nan Palatine 60074\n",
      "nan nan Brooklyn 11237\n",
      "nan nan Louisville 80027\n",
      "nan nan Anaheim 92804\n",
      "nan nan Santa Monica 90405\n",
      "nan nan San Leandro 94578\n",
      "nan nan Reedley 93654\n",
      "nan nan Columbus 43221\n",
      "nan nan Las Vegas 89117\n",
      "nan nan Port Richey 34668\n",
      "nan nan Lynn 1901\n",
      "nan nan Hershey 17033\n",
      "nan nan Chicago 60618\n",
      "nan nan La Jolla 92037\n",
      "nan nan Topeka 66611\n",
      "nan nan Portland 97209\n",
      "nan nan Summit 7901\n",
      "nan nan Santa Fe 87501\n",
      "nan nan Long Beach 90807\n",
      "nan nan Virginia Beach 23451\n",
      "nan nan Scottsdale 85251\n",
      "nan nan Los Angeles 90044\n",
      "nan nan Brockton 2301\n",
      "nan nan Flagstaff 86001\n",
      "nan nan Santa Monica 90401\n",
      "nan nan Sacramento 95834\n",
      "nan nan Saint Cloud 56301\n",
      "nan nan Flagstaff 86001\n",
      "nan nan Longmont 80504\n",
      "nan nan Summit 7901\n",
      "nan nan Cincinnati 45245\n",
      "nan nan San Diego 92131\n",
      "nan nan Cincinnati 45245\n",
      "nan nan Pearland 77581\n",
      "nan nan Reedley 93654\n",
      "nan nan Layton 84041\n",
      "nan nan Dyer 46311\n",
      "nan nan Las Vegas 89109\n",
      "nan nan High Bridge 8829\n",
      "nan nan Portland 97218\n",
      "nan nan West Warwick 2893\n",
      "nan nan Long Beach 90807\n",
      "nan nan Freeport 77541\n",
      "nan nan Whitehall 18052\n",
      "nan nan Frederick 80530\n",
      "nan nan Santa Monica 90405\n",
      "nan nan Summit 7901\n",
      "nan nan Stanton 90680\n",
      "nan nan Layton 84041\n",
      "nan nan Providence 2908\n",
      "nan nan Layton 84041\n",
      "nan nan Layton 84041\n",
      "nan nan Great Falls 59404\n",
      "nan nan Dyer 46311\n",
      "nan nan Louisville 40213\n",
      "nan nan Layton 84041\n",
      "nan nan San Antonio 78218\n",
      "nan nan Clearwater 33759\n",
      "nan nan Los Angeles 90044\n",
      "nan nan Brockton 2301\n",
      "nan nan Virginia Beach 23451\n",
      "nan nan Canoga Park 91303\n",
      "nan nan Seal Beach 90740\n",
      "nan nan Los Angeles 90044\n",
      "nan nan Santa Monica 90405\n",
      "nan nan Reedley 93654\n",
      "nan nan Sacramento 95819\n",
      "nan nan Garden City 67846\n",
      "nan nan Hershey 17033\n",
      "nan nan Pomona 91766\n",
      "nan nan Seattle 98133\n",
      "nan nan Saint Cloud 56301\n",
      "nan nan Great Falls 59404\n",
      "nan nan Layton 84041\n",
      "nan nan Lynn 1901\n",
      "nan nan Port Richey 34668\n",
      "nan nan Great Falls 59404\n",
      "nan nan San Diego 92117\n",
      "nan nan Stamford 6901\n",
      "nan nan San Diego 92102\n",
      "nan nan Columbus 43219\n",
      "nan nan Napa 94558\n",
      "nan nan Louisville 80027\n",
      "nan nan Irvine 92618\n",
      "nan nan Alpharetta 30004\n",
      "nan nan Los Angeles 90024\n",
      "nan nan Riverside 92505\n",
      "nan nan Pomona 91766\n",
      "nan nan Baton Rouge 70815\n",
      "nan nan Dyer 46311\n",
      "nan nan Layton 84041\n",
      "nan nan High Point 27262\n",
      "nan nan El Paso 79902\n",
      "nan nan Glendale 91206\n",
      "nan nan San Marcos 92069\n",
      "nan nan Layton 84041\n",
      "nan nan Chandler 85286\n",
      "nan nan Los Angeles 90044\n",
      "nan nan El Paso 79902\n",
      "nan nan Scottsdale 85251\n",
      "nan nan Spring Valley 91978\n",
      "nan nan Orlando 32839\n",
      "nan nan Sacramento 95819\n",
      "nan nan Pomona 91766\n",
      "nan nan Whittier 90605\n",
      "nan nan Hershey 17033\n",
      "nan nan Fresno 93711\n",
      "nan nan Louisville 40213\n",
      "nan nan Berwyn 60402\n",
      "nan nan Summit 7901\n",
      "nan nan Pomona 91766\n",
      "nan nan High Bridge 8829\n",
      "nan nan San Francisco 94103\n",
      "nan nan West Warwick 2893\n",
      "nan nan Little Rock 72201\n",
      "nan nan Portland 97209\n",
      "nan nan Irvine 92618\n",
      "nan nan Stanton 90680\n",
      "nan nan New Haven 6510\n",
      "nan nan Perry Hall 21128\n",
      "nan nan North Las Vegas 89030\n",
      "nan nan San Diego 92131\n",
      "nan nan Garden City 67846\n",
      "nan nan Providence 2908\n",
      "nan nan Flagstaff 86001\n",
      "nan nan Louisville 40213\n",
      "nan nan Topeka 66611\n",
      "nan nan Brooklyn 11237\n",
      "nan nan Providence 2908\n",
      "nan nan Cincinnati 45245\n",
      "nan nan La Jolla 92037\n",
      "nan nan Cincinnati 45245\n",
      "nan nan Long Beach 90807\n",
      "nan nan El Paso 79902\n",
      "nan nan San Marcos 92069\n",
      "nan nan Perry Hall 21128\n",
      "nan nan Sacramento 95815\n",
      "nan nan San Diego 92117\n",
      "nan nan San Francisco 94103\n",
      "nan nan Layton 84041\n",
      "nan nan Las Vegas 89109\n",
      "nan nan Providence 2908\n",
      "nan nan North Hollywood 91601\n",
      "nan nan Freeport 77541\n",
      "nan nan Columbus 43219\n",
      "nan nan Berwyn 60402\n",
      "nan nan Hershey 17033\n",
      "nan nan Dyer 46311\n",
      "nan nan New Brunswick 8901\n",
      "nan nan North Las Vegas 89030\n",
      "nan nan Waddy 40076\n",
      "nan nan Layton 84041\n",
      "nan nan North Las Vegas 89030\n",
      "nan nan San Diego 92131\n",
      "nan nan Euless 76039\n",
      "nan nan Pearland 77581\n",
      "nan nan Brooklyn 11201\n",
      "nan nan Pasadena 91107\n",
      "nan nan Elmwood Park 60707\n",
      "nan nan Summit 7901\n",
      "nan nan Seattle 98133\n",
      "nan nan Riverside 92508\n",
      "nan nan Brooklyn 11201\n",
      "nan nan Flagstaff 86001\n",
      "nan nan Berwyn 60402\n",
      "nan nan Pasadena 91107\n",
      "nan nan Alpharetta 30004\n",
      "nan nan Berwyn 60402\n",
      "nan nan Tucson 85713\n",
      "nan nan Niles 60714\n",
      "nan nan Cincinnati 45245\n",
      "nan nan West Warwick 2893\n",
      "nan nan Stamford 6901\n",
      "nan nan Layton 84041\n",
      "nan nan Houston 77002\n",
      "nan nan Reedley 93654\n",
      "nan nan San Antonio 78218\n",
      "nan nan Little Rock 72201\n",
      "nan nan Seattle 98133\n",
      "nan nan Pasadena 91107\n",
      "nan nan Anaheim 92804\n",
      "nan nan El Paso 79902\n",
      "nan nan Philadelphia 19119\n",
      "nan nan Orange 92640\n",
      "nan nan Riverside 92505\n",
      "nan nan New Brunswick 8901\n",
      "nan nan Glendale 91206\n",
      "nan nan Brooklyn 11237\n",
      "nan nan Indianapolis 46222\n",
      "nan nan Topeka 66611\n",
      "nan nan San Francisco 94103\n",
      "nan nan West Warwick 2893\n",
      "nan nan Irvine 92618\n",
      "nan nan Topeka 66611\n",
      "nan nan Stanton 90680\n",
      "nan nan Anaheim 92804\n",
      "nan nan Los Angeles 90044\n",
      "nan nan Santa Monica 90401\n",
      "nan nan La Jolla 92037\n",
      "nan nan San Diego 92131\n",
      "nan nan Port Richey 34668\n",
      "nan nan Tucson 85713\n",
      "nan nan High Point 27262\n",
      "nan nan Philadelphia 19119\n",
      "nan nan El Paso 79902\n",
      "nan nan Clearwater 33759\n",
      "nan nan Orange 92640\n",
      "nan nan Sacramento 95819\n",
      "nan nan Pomona 91766\n",
      "nan nan Alabaster 35007\n",
      "nan nan Indianapolis 46222\n",
      "nan nan Pomona 91766\n",
      "nan nan Las Vegas 89134\n",
      "nan nan Indianapolis 46222\n",
      "nan nan Port Richey 34668\n",
      "nan nan Elmwood Park 60707\n",
      "nan nan Mckinney 75069\n",
      "nan nan Clearwater 33759\n",
      "nan nan San Marcos 92069\n",
      "nan nan Layton 84041\n",
      "nan nan Canoga Park 91303\n",
      "nan nan Louisville 80027\n",
      "nan nan Portland 97209\n",
      "nan nan Longmont 80504\n",
      "nan nan Long Beach 90807\n",
      "nan nan Freeport 77541\n",
      "nan nan Niles 60714\n",
      "nan nan Hershey 17033\n",
      "nan nan Pasadena 91101\n",
      "nan nan Santa Fe 87501\n",
      "nan nan San Pedro 90731\n",
      "nan nan Las Vegas 89109\n",
      "nan nan Los Angeles 90044\n",
      "nan nan Stamford 6901\n",
      "nan nan Brooklyn 11237\n",
      "nan nan Hershey 17033\n",
      "nan nan Louisville 80027\n",
      "nan nan Houston 77036\n",
      "nan nan Santa Fe 87501\n",
      "nan nan Brooklyn 11237\n",
      "nan nan Alpharetta 30004\n",
      "nan nan Pomona 91766\n",
      "nan nan Orlando 32839\n",
      "nan nan Santa Monica 90401\n",
      "nan nan Sacramento 95819\n"
     ]
    }
   ],
   "source": [
    "t = Table.read_table('goldman.csv')\n",
    "f = longlat(t)"
   ]
  },
  {
   "cell_type": "code",
   "execution_count": 71,
   "metadata": {},
   "outputs": [
    {
     "data": {
      "text/plain": [
       "postal_code       77379\n",
       "country code        NaN\n",
       "place_name          NaN\n",
       "state_name          NaN\n",
       "state_code          NaN\n",
       "county_name         NaN\n",
       "county_code         NaN\n",
       "community_name      NaN\n",
       "community_code      NaN\n",
       "latitude            NaN\n",
       "longitude           NaN\n",
       "accuracy            NaN\n",
       "Name: 0, dtype: object"
      ]
     },
     "execution_count": 71,
     "metadata": {},
     "output_type": "execute_result"
    }
   ],
   "source": [
    "nomi = pgeocode.Nominatim('fr')\n",
    "nomi.query_postal_code(\"77379\")"
   ]
  },
  {
   "cell_type": "code",
   "execution_count": null,
   "metadata": {},
   "outputs": [],
   "source": []
  },
  {
   "cell_type": "code",
   "execution_count": null,
   "metadata": {},
   "outputs": [],
   "source": []
  }
 ],
 "metadata": {
  "kernelspec": {
   "display_name": "Python 3",
   "language": "python",
   "name": "python3"
  },
  "language_info": {
   "codemirror_mode": {
    "name": "ipython",
    "version": 3
   },
   "file_extension": ".py",
   "mimetype": "text/x-python",
   "name": "python",
   "nbconvert_exporter": "python",
   "pygments_lexer": "ipython3",
   "version": "3.7.0"
  }
 },
 "nbformat": 4,
 "nbformat_minor": 2
}
