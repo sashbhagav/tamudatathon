{
 "cells": [
  {
   "cell_type": "code",
   "execution_count": 30,
   "metadata": {},
   "outputs": [],
   "source": [
    "import numpy as np\n",
    "import pandas as pd\n",
    "from datascience import *\n",
    "import pgeocode\n",
    "import math"
   ]
  },
  {
   "cell_type": "code",
   "execution_count": null,
   "metadata": {},
   "outputs": [],
   "source": []
  },
  {
   "cell_type": "code",
   "execution_count": 56,
   "metadata": {},
   "outputs": [],
   "source": [
    "# goldman = Table.read_table('../../just tacos and burritos.csv')\n",
    "# goldman = goldman.sample(1000)\n",
    "# goldman.show(15)"
   ]
  },
  {
   "cell_type": "code",
   "execution_count": null,
   "metadata": {},
   "outputs": [],
   "source": []
  },
  {
   "cell_type": "code",
   "execution_count": 59,
   "metadata": {},
   "outputs": [],
   "source": [
    "# stores = goldman.group('websites')\n",
    "# stores.show(10)"
   ]
  },
  {
   "cell_type": "code",
   "execution_count": 58,
   "metadata": {
    "scrolled": false
   },
   "outputs": [],
   "source": [
    "# cuisines = goldman.group('cuisines')\n",
    "# cuisines.show(5)"
   ]
  },
  {
   "cell_type": "code",
   "execution_count": 5,
   "metadata": {},
   "outputs": [
    {
     "data": {
      "text/html": [
       "<table border=\"1\" class=\"dataframe\">\n",
       "    <thead>\n",
       "        <tr>\n",
       "            <th>country</th> <th>count</th>\n",
       "        </tr>\n",
       "    </thead>\n",
       "    <tbody>\n",
       "        <tr>\n",
       "            <td>US     </td> <td>1000 </td>\n",
       "        </tr>\n",
       "    </tbody>\n",
       "</table>"
      ],
      "text/plain": [
       "<IPython.core.display.HTML object>"
      ]
     },
     "metadata": {},
     "output_type": "display_data"
    }
   ],
   "source": [
    "# locs = goldman.group('country')\n",
    "# locs.show()"
   ]
  },
  {
   "cell_type": "code",
   "execution_count": 6,
   "metadata": {},
   "outputs": [],
   "source": [
    "goldman = goldman.drop('country').drop('id').drop('dateAdded').drop('dateUpdated').drop('menus.dateSeen').drop('menus.currency')"
   ]
  },
  {
   "cell_type": "code",
   "execution_count": 7,
   "metadata": {
    "scrolled": false
   },
   "outputs": [],
   "source": [
    "# goldman.sample(200).show()\n",
    "categories = []\n",
    "goldman.column('menus.name').item(9)\n",
    "for i in range(0, len(goldman.column('menus.name'))):\n",
    "    name = goldman.column('menus.name').item(i)\n",
    "    if 'burrito' in name or 'Burrito' in name:\n",
    "        categories.append('Burrito')\n",
    "    else:\n",
    "        categories.append('Taco')"
   ]
  },
  {
   "cell_type": "code",
   "execution_count": 8,
   "metadata": {},
   "outputs": [],
   "source": [
    "goldman = goldman.with_column('Categories', categories)\n",
    "for i in range(25, 30):\n",
    "    name = 'Unnamed: '+str(i)\n",
    "    goldman.drop(name)"
   ]
  },
  {
   "cell_type": "code",
   "execution_count": 60,
   "metadata": {},
   "outputs": [],
   "source": [
    "piv = goldman.pivot('cuisines', 'name')\n",
    "# piv.show(5)"
   ]
  },
  {
   "cell_type": "code",
   "execution_count": null,
   "metadata": {},
   "outputs": [],
   "source": []
  },
  {
   "cell_type": "code",
   "execution_count": 11,
   "metadata": {},
   "outputs": [],
   "source": [
    "df = goldman.to_df()"
   ]
  },
  {
   "cell_type": "code",
   "execution_count": 12,
   "metadata": {},
   "outputs": [],
   "source": [
    "df2 = df.drop(['Unnamed: 235'], axis = 1)"
   ]
  },
  {
   "cell_type": "code",
   "execution_count": 13,
   "metadata": {},
   "outputs": [],
   "source": [
    "for i in range(26, 236):\n",
    "    name = 'Unnamed: '+str(i)\n",
    "    df = df.drop([name], axis = 1)"
   ]
  },
  {
   "cell_type": "code",
   "execution_count": 14,
   "metadata": {},
   "outputs": [],
   "source": [
    "df.to_csv('goldman.csv')"
   ]
  },
  {
   "cell_type": "code",
   "execution_count": 15,
   "metadata": {},
   "outputs": [],
   "source": [
    "goldman2 = Table.read_table('goldman.csv')\n",
    "goldman2 = goldman2.drop('Unnamed: 0').drop('menus.category').drop('priceRangeCurrency')"
   ]
  },
  {
   "cell_type": "code",
   "execution_count": 16,
   "metadata": {},
   "outputs": [],
   "source": [
    "burrito = goldman2.where('Categories', are.equal_to('Burrito'))\n",
    "taco = goldman2.where('Categories', are.equal_to('Taco'))"
   ]
  },
  {
   "cell_type": "code",
   "execution_count": 61,
   "metadata": {},
   "outputs": [],
   "source": [
    "# burrito.show(10)\n",
    "# taco.show(10)"
   ]
  },
  {
   "cell_type": "code",
   "execution_count": null,
   "metadata": {},
   "outputs": [],
   "source": []
  },
  {
   "cell_type": "code",
   "execution_count": 62,
   "metadata": {},
   "outputs": [],
   "source": [
    "burrito_rat = burrito.group('city')\n",
    "# burrito_rat.show(5)"
   ]
  },
  {
   "cell_type": "code",
   "execution_count": 63,
   "metadata": {},
   "outputs": [],
   "source": [
    "taco_rat = taco.group('city')\n",
    "# taco_rat.show(5)"
   ]
  },
  {
   "cell_type": "code",
   "execution_count": 64,
   "metadata": {},
   "outputs": [],
   "source": [
    "ratio = taco_rat.join('city', burrito_rat, 'city')\n",
    "# ratio.show(10)"
   ]
  },
  {
   "cell_type": "code",
   "execution_count": 21,
   "metadata": {},
   "outputs": [
    {
     "data": {
      "text/html": [
       "<table border=\"1\" class=\"dataframe\">\n",
       "    <thead>\n",
       "        <tr>\n",
       "            <th>city</th> <th>Tacos</th> <th>Burritos</th>\n",
       "        </tr>\n",
       "    </thead>\n",
       "    <tbody>\n",
       "        <tr>\n",
       "            <td>Albuquerque</td> <td>3    </td> <td>4       </td>\n",
       "        </tr>\n",
       "        <tr>\n",
       "            <td>Alpharetta </td> <td>2    </td> <td>1       </td>\n",
       "        </tr>\n",
       "        <tr>\n",
       "            <td>Anaheim    </td> <td>2    </td> <td>1       </td>\n",
       "        </tr>\n",
       "        <tr>\n",
       "            <td>Atlanta    </td> <td>2    </td> <td>2       </td>\n",
       "        </tr>\n",
       "        <tr>\n",
       "            <td>Aurora     </td> <td>1    </td> <td>1       </td>\n",
       "        </tr>\n",
       "        <tr>\n",
       "            <td>Azusa      </td> <td>2    </td> <td>3       </td>\n",
       "        </tr>\n",
       "        <tr>\n",
       "            <td>Bakersfield</td> <td>1    </td> <td>2       </td>\n",
       "        </tr>\n",
       "        <tr>\n",
       "            <td>Baltimore  </td> <td>3    </td> <td>1       </td>\n",
       "        </tr>\n",
       "        <tr>\n",
       "            <td>Beeville   </td> <td>1    </td> <td>1       </td>\n",
       "        </tr>\n",
       "        <tr>\n",
       "            <td>Boise      </td> <td>2    </td> <td>2       </td>\n",
       "        </tr>\n",
       "    </tbody>\n",
       "</table>\n",
       "<p>... (86 rows omitted)</p>"
      ],
      "text/plain": [
       "city        | Tacos | Burritos\n",
       "Albuquerque | 3     | 4\n",
       "Alpharetta  | 2     | 1\n",
       "Anaheim     | 2     | 1\n",
       "Atlanta     | 2     | 2\n",
       "Aurora      | 1     | 1\n",
       "Azusa       | 2     | 3\n",
       "Bakersfield | 1     | 2\n",
       "Baltimore   | 3     | 1\n",
       "Beeville    | 1     | 1\n",
       "Boise       | 2     | 2\n",
       "... (86 rows omitted)"
      ]
     },
     "execution_count": 21,
     "metadata": {},
     "output_type": "execute_result"
    }
   ],
   "source": [
    "ratio.relabel('count', 'Tacos')\n",
    "ratio.relabel('count_2', 'Burritos')"
   ]
  },
  {
   "cell_type": "code",
   "execution_count": 22,
   "metadata": {},
   "outputs": [],
   "source": [
    "ratio = ratio.with_columns('Ratio of Burritos/Tacos', ratio.column('Burritos')/ratio.column('Tacos'))"
   ]
  },
  {
   "cell_type": "markdown",
   "metadata": {},
   "source": [
    "## Question 1"
   ]
  },
  {
   "cell_type": "code",
   "execution_count": 66,
   "metadata": {},
   "outputs": [
    {
     "data": {
      "text/html": [
       "<table border=\"1\" class=\"dataframe\">\n",
       "    <thead>\n",
       "        <tr>\n",
       "            <th>city</th> <th>count</th> <th>count_2</th>\n",
       "        </tr>\n",
       "    </thead>\n",
       "    <tbody>\n",
       "        <tr>\n",
       "            <td>Albuquerque</td> <td>3    </td> <td>4      </td>\n",
       "        </tr>\n",
       "        <tr>\n",
       "            <td>Alpharetta </td> <td>2    </td> <td>1      </td>\n",
       "        </tr>\n",
       "        <tr>\n",
       "            <td>Anaheim    </td> <td>2    </td> <td>1      </td>\n",
       "        </tr>\n",
       "        <tr>\n",
       "            <td>Atlanta    </td> <td>2    </td> <td>2      </td>\n",
       "        </tr>\n",
       "        <tr>\n",
       "            <td>Aurora     </td> <td>1    </td> <td>1      </td>\n",
       "        </tr>\n",
       "        <tr>\n",
       "            <td>Azusa      </td> <td>2    </td> <td>3      </td>\n",
       "        </tr>\n",
       "        <tr>\n",
       "            <td>Bakersfield</td> <td>1    </td> <td>2      </td>\n",
       "        </tr>\n",
       "        <tr>\n",
       "            <td>Baltimore  </td> <td>3    </td> <td>1      </td>\n",
       "        </tr>\n",
       "        <tr>\n",
       "            <td>Beeville   </td> <td>1    </td> <td>1      </td>\n",
       "        </tr>\n",
       "        <tr>\n",
       "            <td>Boise      </td> <td>2    </td> <td>2      </td>\n",
       "        </tr>\n",
       "    </tbody>\n",
       "</table>\n",
       "<p>... (86 rows omitted)</p>"
      ],
      "text/plain": [
       "<IPython.core.display.HTML object>"
      ]
     },
     "metadata": {},
     "output_type": "display_data"
    }
   ],
   "source": [
    "ratio.show(10)"
   ]
  },
  {
   "cell_type": "markdown",
   "metadata": {},
   "source": [
    "## #2"
   ]
  },
  {
   "cell_type": "code",
   "execution_count": 65,
   "metadata": {},
   "outputs": [],
   "source": [
    "# goldman2.group('city')"
   ]
  },
  {
   "cell_type": "code",
   "execution_count": 67,
   "metadata": {},
   "outputs": [],
   "source": [
    "# goldman = Table.read_table('../../just tacos and burritos.csv')\n",
    "# # "
   ]
  },
  {
   "cell_type": "code",
   "execution_count": 68,
   "metadata": {},
   "outputs": [],
   "source": [
    "# goldman = goldman.sample(10000)\n",
    "# id_g = goldman.group('city')\n",
    "# id_g.show(10)"
   ]
  },
  {
   "cell_type": "code",
   "execution_count": 69,
   "metadata": {},
   "outputs": [],
   "source": [
    "# locations = []\n",
    "# count = 1\n",
    "# for i in id_g.column('id'):\n",
    "#     city = goldman.where('id', are.equal_to(i)).column('city').item(0)\n",
    "#     print(city, count)\n",
    "#     locations.append(city)\n",
    "#     count += 1"
   ]
  },
  {
   "cell_type": "code",
   "execution_count": 31,
   "metadata": {},
   "outputs": [],
   "source": [
    "# id_g = id_g.with_column('City', locations)"
   ]
  },
  {
   "cell_type": "code",
   "execution_count": 70,
   "metadata": {},
   "outputs": [],
   "source": [
    "# id_g"
   ]
  },
  {
   "cell_type": "code",
   "execution_count": 123,
   "metadata": {},
   "outputs": [],
   "source": [
    "def ratio(goldman2):\n",
    "    burrito = goldman2.where('Categories', are.equal_to('Burrito'))\n",
    "    taco = goldman2.where('Categories', are.equal_to('Taco'))\n",
    "    \n",
    "    burrito_rat = burrito.group('postalCode').relabel('count', 'burrito')\n",
    "    taco_rat = taco.group('postalCode').relabel('count', 'taco')\n",
    "    \n",
    "    ratio = pd.merge(burrito_rat.to_df(), taco_rat.to_df(), how = \"outer\")\n",
    "    \n",
    "    ratio['Ratio of Burritos/Taco'] = ratio['burrito']/ratio['taco']\n",
    "    ratio.to_csv('training.csv')\n",
    "    return ratio"
   ]
  },
  {
   "cell_type": "code",
   "execution_count": 129,
   "metadata": {},
   "outputs": [],
   "source": [
    "def category(goldman):\n",
    "    # goldman.sample(200).show()\n",
    "    categories = []\n",
    "    goldman.column('menus.name').item(9)\n",
    "    for i in range(0, len(goldman.column('menus.name'))):\n",
    "        name = goldman.column('menus.name').item(i)\n",
    "        if 'burrito' in name or 'Burrito' in name:\n",
    "            categories.append('Burrito')\n",
    "        else:\n",
    "            categories.append('Taco')\n",
    "    goldman = goldman.with_column('Categories', categories)\n",
    "    df = goldman.to_df()\n",
    "    \n",
    "    for i in range(26, 236):\n",
    "        name = 'Unnamed: '+str(i)\n",
    "        df = df.drop([name], axis = 1)\n",
    "    df.to_csv('part1.csv')\n",
    "    return df"
   ]
  },
  {
   "cell_type": "code",
   "execution_count": 36,
   "metadata": {},
   "outputs": [],
   "source": [
    "goldman = Table.read_table('../../just tacos and burritos.csv')"
   ]
  },
  {
   "cell_type": "code",
   "execution_count": 281,
   "metadata": {
    "scrolled": true
   },
   "outputs": [],
   "source": [
    "goldman = goldman.sample(10000)\n",
    "f = category(goldman)\n",
    "\n",
    "g = Table.read_table('part1.csv')\n"
   ]
  },
  {
   "cell_type": "code",
   "execution_count": null,
   "metadata": {},
   "outputs": [],
   "source": []
  },
  {
   "cell_type": "code",
   "execution_count": 279,
   "metadata": {},
   "outputs": [],
   "source": [
    "goldman2 = Table.read_table('goldman.csv')\n",
    "goldman2 = goldman2.drop('Unnamed: 0').drop('menus.category').drop('priceRangeCurrency')\n",
    "r = ratio(goldman2)"
   ]
  },
  {
   "cell_type": "code",
   "execution_count": null,
   "metadata": {},
   "outputs": [],
   "source": []
  },
  {
   "cell_type": "code",
   "execution_count": 282,
   "metadata": {},
   "outputs": [
    {
     "data": {
      "text/html": [
       "<table border=\"1\" class=\"dataframe\">\n",
       "    <thead>\n",
       "        <tr>\n",
       "            <th>Name</th> <th>postalCode</th> <th>categories</th>\n",
       "        </tr>\n",
       "    </thead>\n",
       "    <tbody>\n",
       "        <tr>\n",
       "            <td>Chili's Grill & Bar</td> <td>77584     </td> <td>Tex-Mex Restaurant                                          </td>\n",
       "        </tr>\n",
       "        <tr>\n",
       "            <td>Tortilla Jo's      </td> <td>92802     </td> <td>Restaurants,Mexican Restaurant,Latin American Restaurant ...</td>\n",
       "        </tr>\n",
       "        <tr>\n",
       "            <td>Blue Parrot        </td> <td>80027     </td> <td>Italian Restaurant                                          </td>\n",
       "        </tr>\n",
       "        <tr>\n",
       "            <td>Java Joe's         </td> <td>87102     </td> <td>Coffee Shop,Restaurants,Coffeehouses                        </td>\n",
       "        </tr>\n",
       "        <tr>\n",
       "            <td>El Pollo Loco      </td> <td>92505     </td> <td>Fast Food Restaurant,Mexican Restaurant                     </td>\n",
       "        </tr>\n",
       "        <tr>\n",
       "            <td>Cantina Feliz      </td> <td>19034     </td> <td>Mexican Restaurant,Bar                                      </td>\n",
       "        </tr>\n",
       "        <tr>\n",
       "            <td>Pocos Restaurant   </td> <td>91303     </td> <td>Mexican Restaurant Canoga Park,Mexican Restaurant           </td>\n",
       "        </tr>\n",
       "        <tr>\n",
       "            <td>Cactus Restaurant  </td> <td>98112     </td> <td>Latin American Restaurants,Take Out Restaurants,Caterers ...</td>\n",
       "        </tr>\n",
       "        <tr>\n",
       "            <td>Mcdonald's         </td> <td>97739     </td> <td>Fast Food Restaurant                                        </td>\n",
       "        </tr>\n",
       "        <tr>\n",
       "            <td>Chili's Grill & Bar</td> <td>77584     </td> <td>Tex-Mex Restaurant                                          </td>\n",
       "        </tr>\n",
       "    </tbody>\n",
       "</table>\n",
       "<p>... (9990 rows omitted)</p>"
      ],
      "text/plain": [
       "<IPython.core.display.HTML object>"
      ]
     },
     "metadata": {},
     "output_type": "display_data"
    }
   ],
   "source": [
    "g = Table().with_columns('Name', g.column('name'), 'postalCode', g.column('postalCode'), 'categories', g.column('categories') )\n",
    "g.show(10)"
   ]
  },
  {
   "cell_type": "code",
   "execution_count": 259,
   "metadata": {},
   "outputs": [
    {
     "data": {
      "text/html": [
       "<table border=\"1\" class=\"dataframe\">\n",
       "    <thead>\n",
       "        <tr>\n",
       "            <th>postalCode</th> <th>Name max</th>\n",
       "        </tr>\n",
       "    </thead>\n",
       "    <tbody>\n",
       "        <tr>\n",
       "            <td>10065     </td> <td>Maya - New York                   </td>\n",
       "        </tr>\n",
       "        <tr>\n",
       "            <td>11201     </td> <td>The Original Fresco Tortillas Plus</td>\n",
       "        </tr>\n",
       "        <tr>\n",
       "            <td>11237     </td> <td>Taqueria El Paisa                 </td>\n",
       "        </tr>\n",
       "        <tr>\n",
       "            <td>11559     </td> <td>Carlos & Gabby's                  </td>\n",
       "        </tr>\n",
       "        <tr>\n",
       "            <td>12866     </td> <td>The Brook Tavern                  </td>\n",
       "        </tr>\n",
       "        <tr>\n",
       "            <td>15931     </td> <td>Mcdonald's                        </td>\n",
       "        </tr>\n",
       "        <tr>\n",
       "            <td>1610      </td> <td>Peppercorn's Grille & Bar         </td>\n",
       "        </tr>\n",
       "        <tr>\n",
       "            <td>16830     </td> <td>McDonald's                        </td>\n",
       "        </tr>\n",
       "        <tr>\n",
       "            <td>17033     </td> <td>Minetown Restaurant               </td>\n",
       "        </tr>\n",
       "        <tr>\n",
       "            <td>18034     </td> <td>Torre Restaurant                  </td>\n",
       "        </tr>\n",
       "    </tbody>\n",
       "</table>\n",
       "<p>... (293 rows omitted)</p>"
      ],
      "text/plain": [
       "postalCode | Name max\n",
       "10065      | Maya - New York\n",
       "11201      | The Original Fresco Tortillas Plus\n",
       "11237      | Taqueria El Paisa\n",
       "11559      | Carlos & Gabby's\n",
       "12866      | The Brook Tavern\n",
       "15931      | Mcdonald's\n",
       "1610       | Peppercorn's Grille & Bar\n",
       "16830      | McDonald's\n",
       "17033      | Minetown Restaurant\n",
       "18034      | Torre Restaurant\n",
       "... (293 rows omitted)"
      ]
     },
     "execution_count": 259,
     "metadata": {},
     "output_type": "execute_result"
    }
   ],
   "source": [
    "g = g.group('postalCode', max)\n",
    "g"
   ]
  },
  {
   "cell_type": "code",
   "execution_count": null,
   "metadata": {},
   "outputs": [],
   "source": [
    "model_table = model_table.to_df()\n",
    "model_table = pd.merge(model_table, taco)"
   ]
  },
  {
   "cell_type": "code",
   "execution_count": 80,
   "metadata": {},
   "outputs": [],
   "source": [
    "model_table.to_csv('training.csv')"
   ]
  },
  {
   "cell_type": "code",
   "execution_count": 67,
   "metadata": {},
   "outputs": [],
   "source": [
    "def longlat(goldman):\n",
    "    longs = []\n",
    "    lats = []\n",
    "    nomi = pgeocode.Nominatim('fr')\n",
    "    for i in range(0, len(goldman.column('latitude'))):\n",
    "        if math.isnan(goldman.column('latitude').item(i)):\n",
    "            zipcode = goldman.column('postalCode').item(i)\n",
    "            lon = nomi.query_postal_code(str(zipcode))['longitude']\n",
    "            lat = nomi.query_postal_code(str(zipcode))['latitude']\n",
    "            longs.append(lon)\n",
    "            lats.append(lat)\n",
    "            print(lon, lat, goldman.column('city').item(i), zipcode)\n",
    "        else:   \n",
    "            longs.append(goldman.column('longitude').item(i))\n",
    "            lats.append(goldman.column('latitude').item(i))\n",
    "            \n",
    "    return [longs,lats]"
   ]
  },
  {
   "cell_type": "code",
   "execution_count": null,
   "metadata": {},
   "outputs": [],
   "source": []
  },
  {
   "cell_type": "code",
   "execution_count": null,
   "metadata": {},
   "outputs": [],
   "source": []
  },
  {
   "cell_type": "code",
   "execution_count": 167,
   "metadata": {},
   "outputs": [],
   "source": [
    "zips = Table.read_table('zipcodes.csv')\n"
   ]
  },
  {
   "cell_type": "code",
   "execution_count": 225,
   "metadata": {
    "scrolled": true
   },
   "outputs": [],
   "source": [
    "lala = Table.read_table('r.csv')\n",
    "lala = lala.drop('Unnamed: 0')\n",
    "# lala.column('postalCode')"
   ]
  },
  {
   "cell_type": "code",
   "execution_count": 166,
   "metadata": {},
   "outputs": [
    {
     "data": {
      "text/plain": [
       "array(['501', '544', '601', ..., '99928', '99929', '99950'], dtype='<U5')"
      ]
     },
     "execution_count": 166,
     "metadata": {},
     "output_type": "execute_result"
    }
   ],
   "source": [
    "zipzz = Table().with_columns('postalCode', zips.column(0),\n",
    "                            'Longitude', zips.column(1),\n",
    "                            'Latitude', zips.column(2))\n",
    "post = [str(i) for i in zipzz.column('postalCode')]\n",
    "zipzz = zipzz.drop('postalCode').with_column('postalCode', post)\n",
    "zipzz.column('postalCode')"
   ]
  },
  {
   "cell_type": "code",
   "execution_count": 211,
   "metadata": {},
   "outputs": [
    {
     "data": {
      "text/html": [
       "<table border=\"1\" class=\"dataframe\">\n",
       "    <thead>\n",
       "        <tr>\n",
       "            <th>postalCode</th> <th>Longitude</th> <th>Latitude</th> <th>burrito</th> <th>taco</th> <th>Ratio of Burritos/Taco</th> <th>Name max</th>\n",
       "        </tr>\n",
       "    </thead>\n",
       "    <tbody>\n",
       "        <tr>\n",
       "            <td>10065     </td> <td>-73.9638 </td> <td>40.7653 </td> <td>nan    </td> <td>67  </td> <td>nan                   </td> <td>Maya - New York                   </td>\n",
       "        </tr>\n",
       "        <tr>\n",
       "            <td>11201     </td> <td>-73.9927 </td> <td>40.6955 </td> <td>18     </td> <td>nan </td> <td>nan                   </td> <td>The Original Fresco Tortillas Plus</td>\n",
       "        </tr>\n",
       "        <tr>\n",
       "            <td>11237     </td> <td>-73.9216 </td> <td>40.7046 </td> <td>nan    </td> <td>44  </td> <td>nan                   </td> <td>Taqueria El Paisa                 </td>\n",
       "        </tr>\n",
       "        <tr>\n",
       "            <td>11559     </td> <td>-73.7323 </td> <td>40.6118 </td> <td>5      </td> <td>nan </td> <td>nan                   </td> <td>Carlos & Gabby's                  </td>\n",
       "        </tr>\n",
       "        <tr>\n",
       "            <td>12866     </td> <td>-73.7748 </td> <td>43.076  </td> <td>30     </td> <td>6   </td> <td>5                     </td> <td>The Brook Tavern                  </td>\n",
       "        </tr>\n",
       "        <tr>\n",
       "            <td>15931     </td> <td>-78.7326 </td> <td>40.4838 </td> <td>60     </td> <td>nan </td> <td>nan                   </td> <td>Mcdonald's                        </td>\n",
       "        </tr>\n",
       "        <tr>\n",
       "            <td>1610      </td> <td>-71.808  </td> <td>42.249  </td> <td>nan    </td> <td>28  </td> <td>nan                   </td> <td>Peppercorn's Grille & Bar         </td>\n",
       "        </tr>\n",
       "        <tr>\n",
       "            <td>16830     </td> <td>-78.4416 </td> <td>41.0231 </td> <td>12     </td> <td>nan </td> <td>nan                   </td> <td>McDonald's                        </td>\n",
       "        </tr>\n",
       "        <tr>\n",
       "            <td>17033     </td> <td>-76.6307 </td> <td>40.2788 </td> <td>nan    </td> <td>55  </td> <td>nan                   </td> <td>Minetown Restaurant               </td>\n",
       "        </tr>\n",
       "        <tr>\n",
       "            <td>18034     </td> <td>-75.4256 </td> <td>40.5483 </td> <td>29     </td> <td>nan </td> <td>nan                   </td> <td>Torre Restaurant                  </td>\n",
       "        </tr>\n",
       "    </tbody>\n",
       "</table>\n",
       "<p>... (321 rows omitted)</p>"
      ],
      "text/plain": [
       "postalCode | Longitude | Latitude | burrito | taco | Ratio of Burritos/Taco | Name max\n",
       "10065      | -73.9638  | 40.7653  | nan     | 67   | nan                    | Maya - New York\n",
       "11201      | -73.9927  | 40.6955  | 18      | nan  | nan                    | The Original Fresco Tortillas Plus\n",
       "11237      | -73.9216  | 40.7046  | nan     | 44   | nan                    | Taqueria El Paisa\n",
       "11559      | -73.7323  | 40.6118  | 5       | nan  | nan                    | Carlos & Gabby's\n",
       "12866      | -73.7748  | 43.076   | 30      | 6    | 5                      | The Brook Tavern\n",
       "15931      | -78.7326  | 40.4838  | 60      | nan  | nan                    | Mcdonald's\n",
       "1610       | -71.808   | 42.249   | nan     | 28   | nan                    | Peppercorn's Grille & Bar\n",
       "16830      | -78.4416  | 41.0231  | 12      | nan  | nan                    | McDonald's\n",
       "17033      | -76.6307  | 40.2788  | nan     | 55   | nan                    | Minetown Restaurant\n",
       "18034      | -75.4256  | 40.5483  | 29      | nan  | nan                    | Torre Restaurant\n",
       "... (321 rows omitted)"
      ]
     },
     "execution_count": 211,
     "metadata": {},
     "output_type": "execute_result"
    }
   ],
   "source": [
    "final = zipzz.join('postalCode', lala, 'postalCode') \n",
    "final = final.join('postalCode', g, 'postalCode')\n",
    "final"
   ]
  },
  {
   "cell_type": "code",
   "execution_count": 283,
   "metadata": {},
   "outputs": [
    {
     "ename": "AttributeError",
     "evalue": "'DataFrame' object has no attribute 'to_df'",
     "output_type": "error",
     "traceback": [
      "\u001b[0;31m---------------------------------------------------------------------------\u001b[0m",
      "\u001b[0;31mAttributeError\u001b[0m                            Traceback (most recent call last)",
      "\u001b[0;32m<ipython-input-283-546d8a723704>\u001b[0m in \u001b[0;36m<module>\u001b[0;34m\u001b[0m\n\u001b[1;32m      1\u001b[0m \u001b[0mfinal\u001b[0m\u001b[0;34m.\u001b[0m\u001b[0mto_csv\u001b[0m\u001b[0;34m(\u001b[0m\u001b[0;34m'formap.csv'\u001b[0m\u001b[0;34m)\u001b[0m\u001b[0;34m\u001b[0m\u001b[0m\n\u001b[0;32m----> 2\u001b[0;31m \u001b[0mfinal\u001b[0m \u001b[0;34m=\u001b[0m \u001b[0mfinal\u001b[0m\u001b[0;34m.\u001b[0m\u001b[0mto_df\u001b[0m\u001b[0;34m(\u001b[0m\u001b[0;34m)\u001b[0m\u001b[0;34m\u001b[0m\u001b[0m\n\u001b[0m\u001b[1;32m      3\u001b[0m \u001b[0;31m# final\u001b[0m\u001b[0;34m\u001b[0m\u001b[0;34m\u001b[0m\u001b[0m\n",
      "\u001b[0;32m/Library/Frameworks/Python.framework/Versions/3.7/lib/python3.7/site-packages/pandas/core/generic.py\u001b[0m in \u001b[0;36m__getattr__\u001b[0;34m(self, name)\u001b[0m\n\u001b[1;32m   5065\u001b[0m             \u001b[0;32mif\u001b[0m \u001b[0mself\u001b[0m\u001b[0;34m.\u001b[0m\u001b[0m_info_axis\u001b[0m\u001b[0;34m.\u001b[0m\u001b[0m_can_hold_identifiers_and_holds_name\u001b[0m\u001b[0;34m(\u001b[0m\u001b[0mname\u001b[0m\u001b[0;34m)\u001b[0m\u001b[0;34m:\u001b[0m\u001b[0;34m\u001b[0m\u001b[0m\n\u001b[1;32m   5066\u001b[0m                 \u001b[0;32mreturn\u001b[0m \u001b[0mself\u001b[0m\u001b[0;34m[\u001b[0m\u001b[0mname\u001b[0m\u001b[0;34m]\u001b[0m\u001b[0;34m\u001b[0m\u001b[0m\n\u001b[0;32m-> 5067\u001b[0;31m             \u001b[0;32mreturn\u001b[0m \u001b[0mobject\u001b[0m\u001b[0;34m.\u001b[0m\u001b[0m__getattribute__\u001b[0m\u001b[0;34m(\u001b[0m\u001b[0mself\u001b[0m\u001b[0;34m,\u001b[0m \u001b[0mname\u001b[0m\u001b[0;34m)\u001b[0m\u001b[0;34m\u001b[0m\u001b[0m\n\u001b[0m\u001b[1;32m   5068\u001b[0m \u001b[0;34m\u001b[0m\u001b[0m\n\u001b[1;32m   5069\u001b[0m     \u001b[0;32mdef\u001b[0m \u001b[0m__setattr__\u001b[0m\u001b[0;34m(\u001b[0m\u001b[0mself\u001b[0m\u001b[0;34m,\u001b[0m \u001b[0mname\u001b[0m\u001b[0;34m,\u001b[0m \u001b[0mvalue\u001b[0m\u001b[0;34m)\u001b[0m\u001b[0;34m:\u001b[0m\u001b[0;34m\u001b[0m\u001b[0m\n",
      "\u001b[0;31mAttributeError\u001b[0m: 'DataFrame' object has no attribute 'to_df'"
     ]
    }
   ],
   "source": [
    "final.to_csv('formap.csv')\n",
    "final = final.to_df()\n",
    "# final"
   ]
  },
  {
   "cell_type": "code",
   "execution_count": 213,
   "metadata": {},
   "outputs": [],
   "source": [
    "from sklearn.cluster import KMeans\n",
    "from sklearn.metrics import silhouette_score\n",
    "import matplotlib.pyplot as plt"
   ]
  },
  {
   "cell_type": "code",
   "execution_count": 214,
   "metadata": {},
   "outputs": [],
   "source": [
    "# Elbow method to determine the number of K in Kmeans Clustering\n",
    "coords = final[['Longitude', 'Latitude']]\n",
    "\n",
    "distortions = []\n",
    "K = range(1,25)\n",
    "for k in K:\n",
    "    kmeansModel = KMeans(n_clusters=k)\n",
    "    kmeansModel = kmeansModel.fit(coords)\n",
    "    distortions.append(kmeansModel.inertia_)"
   ]
  },
  {
   "cell_type": "code",
   "execution_count": 215,
   "metadata": {},
   "outputs": [
    {
     "name": "stderr",
     "output_type": "stream",
     "text": [
      "/Library/Frameworks/Python.framework/Versions/3.7/lib/python3.7/site-packages/matplotlib/figure.py:445: UserWarning: Matplotlib is currently using agg, which is a non-GUI backend, so cannot show the figure.\n",
      "  % get_backend())\n"
     ]
    }
   ],
   "source": [
    "fig, ax = plt.subplots(figsize=(12, 8))\n",
    "plt.plot(K, distortions, marker='o')\n",
    "plt.xlabel('k')\n",
    "plt.ylabel('Distortions')\n",
    "plt.title('Elbow Method For Optimal k')\n",
    "plt.savefig('elbow.png')\n",
    "plt.show()"
   ]
  },
  {
   "cell_type": "code",
   "execution_count": 216,
   "metadata": {},
   "outputs": [],
   "source": [
    "from sklearn.metrics import silhouette_score\n",
    "\n",
    "sil = []\n",
    "kmax = 50\n",
    "\n",
    "# dissimilarity would not be defined for a single cluster, thus, minimum number of clusters should be 2\n",
    "for k in range(2, kmax+1):\n",
    "  kmeans = KMeans(n_clusters = k).fit(coords)\n",
    "  labels = kmeans.labels_\n",
    "  sil.append(silhouette_score(coords, labels, metric = 'euclidean'))"
   ]
  },
  {
   "cell_type": "code",
   "execution_count": 217,
   "metadata": {},
   "outputs": [
    {
     "name": "stdout",
     "output_type": "stream",
     "text": [
      "k = 5  silhouette_score  0.5162431460875556\n"
     ]
    }
   ],
   "source": [
    "kmeans = KMeans(n_clusters=5, init='k-means++')\n",
    "kmeans.fit(coords)\n",
    "y = kmeans.labels_\n",
    "print(\"k = 5\", \" silhouette_score \", silhouette_score(coords, y, metric='euclidean'))"
   ]
  },
  {
   "cell_type": "code",
   "execution_count": 218,
   "metadata": {},
   "outputs": [],
   "source": [
    "final['cluster'] = kmeans.predict(final[['Longitude','Latitude']])\n"
   ]
  },
  {
   "cell_type": "code",
   "execution_count": 223,
   "metadata": {},
   "outputs": [],
   "source": [
    "def recommend_restaurants(df, longitude, latitude):\n",
    "    # Predict the cluster for longitude and latitude provided\n",
    "    cluster = kmeans.predict(np.array([longitude,latitude]).reshape(1,-1))[0]\n",
    "    print(cluster)\n",
    "   \n",
    "    # Get the best restaurant in this cluster\n",
    "    return  df[df['cluster']==cluster].iloc[0:5][['postalCode', 'Latitude','Longitude']]"
   ]
  },
  {
   "cell_type": "code",
   "execution_count": 241,
   "metadata": {},
   "outputs": [
    {
     "name": "stdout",
     "output_type": "stream",
     "text": [
      "1\n"
     ]
    }
   ],
   "source": [
    "tab = recommend_restaurants(final,-115.2798544, 36.0842838)\n",
    "tab.to_csv('tab.csv')"
   ]
  },
  {
   "cell_type": "code",
   "execution_count": 266,
   "metadata": {},
   "outputs": [],
   "source": [
    "tab1 = Table.read_table('tab.csv')\n",
    "tab1 = tab1.drop('Unnamed: 0')"
   ]
  },
  {
   "cell_type": "code",
   "execution_count": 267,
   "metadata": {},
   "outputs": [
    {
     "data": {
      "text/html": [
       "<table border=\"1\" class=\"dataframe\">\n",
       "    <thead>\n",
       "        <tr>\n",
       "            <th>postalCode</th> <th>Name max</th>\n",
       "        </tr>\n",
       "    </thead>\n",
       "    <tbody>\n",
       "        <tr>\n",
       "            <td>10065     </td> <td>Maya - New York                   </td>\n",
       "        </tr>\n",
       "        <tr>\n",
       "            <td>11201     </td> <td>The Original Fresco Tortillas Plus</td>\n",
       "        </tr>\n",
       "        <tr>\n",
       "            <td>11237     </td> <td>Taqueria El Paisa                 </td>\n",
       "        </tr>\n",
       "        <tr>\n",
       "            <td>11559     </td> <td>Carlos & Gabby's                  </td>\n",
       "        </tr>\n",
       "    </tbody>\n",
       "</table>\n",
       "<p>... (299 rows omitted)</p>"
      ],
      "text/plain": [
       "<IPython.core.display.HTML object>"
      ]
     },
     "metadata": {},
     "output_type": "display_data"
    },
    {
     "data": {
      "text/html": [
       "<table border=\"1\" class=\"dataframe\">\n",
       "    <thead>\n",
       "        <tr>\n",
       "            <th>postalCode</th> <th>Latitude</th> <th>Longitude</th>\n",
       "        </tr>\n",
       "    </thead>\n",
       "    <tbody>\n",
       "        <tr>\n",
       "            <td>83501     </td> <td>46.389  </td> <td>-116.986 </td>\n",
       "        </tr>\n",
       "        <tr>\n",
       "            <td>83642     </td> <td>43.6091 </td> <td>-116.398 </td>\n",
       "        </tr>\n",
       "        <tr>\n",
       "            <td>83706     </td> <td>43.5905 </td> <td>-116.19  </td>\n",
       "        </tr>\n",
       "        <tr>\n",
       "            <td>89030     </td> <td>36.211  </td> <td>-115.129 </td>\n",
       "        </tr>\n",
       "    </tbody>\n",
       "</table>\n",
       "<p>... (1 rows omitted)</p>"
      ],
      "text/plain": [
       "<IPython.core.display.HTML object>"
      ]
     },
     "metadata": {},
     "output_type": "display_data"
    }
   ],
   "source": [
    "g = g.drop('Unnamed: 0')\n",
    "g.show(4)\n",
    "tab1.show(4)"
   ]
  },
  {
   "cell_type": "code",
   "execution_count": 285,
   "metadata": {},
   "outputs": [],
   "source": [
    "import matplotlib"
   ]
  },
  {
   "cell_type": "code",
   "execution_count": 286,
   "metadata": {},
   "outputs": [],
   "source": [
    "import numpy"
   ]
  },
  {
   "cell_type": "code",
   "execution_count": 287,
   "metadata": {},
   "outputs": [],
   "source": [
    "import pandas"
   ]
  },
  {
   "cell_type": "code",
   "execution_count": 291,
   "metadata": {},
   "outputs": [],
   "source": [
    "from matplotlib.pyplot import figure\n",
    "import mpld3\n",
    "\n",
    "fig = figure()\n",
    "ax = fig.gca()\n",
    "ax.plot([1,2,3,4])\n",
    "\n",
    "mpld3.save_html(fig,'myfig.html')\n",
    "#mpld3.show(fig)\n"
   ]
  },
  {
   "cell_type": "code",
   "execution_count": null,
   "metadata": {},
   "outputs": [],
   "source": []
  }
 ],
 "metadata": {
  "kernelspec": {
   "display_name": "Python 3",
   "language": "python",
   "name": "python3"
  },
  "language_info": {
   "codemirror_mode": {
    "name": "ipython",
    "version": 3
   },
   "file_extension": ".py",
   "mimetype": "text/x-python",
   "name": "python",
   "nbconvert_exporter": "python",
   "pygments_lexer": "ipython3",
   "version": "3.7.0"
  }
 },
 "nbformat": 4,
 "nbformat_minor": 2
}
